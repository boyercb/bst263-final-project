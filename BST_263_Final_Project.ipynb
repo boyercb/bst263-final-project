{
  "nbformat": 4,
  "nbformat_minor": 0,
  "metadata": {
    "colab": {
      "name": "BST 263 Final Project.ipynb",
      "provenance": [],
      "collapsed_sections": [],
      "include_colab_link": true
    },
    "kernelspec": {
      "name": "python3",
      "display_name": "Python 3"
    }
  },
  "cells": [
    {
      "cell_type": "markdown",
      "metadata": {
        "id": "view-in-github",
        "colab_type": "text"
      },
      "source": [
        "<a href=\"https://colab.research.google.com/github/boyercb/bst263-final-project/blob/master/BST_263_Final_Project.ipynb\" target=\"_parent\"><img src=\"https://colab.research.google.com/assets/colab-badge.svg\" alt=\"Open In Colab\"/></a>"
      ]
    },
    {
      "cell_type": "code",
      "metadata": {
        "id": "DcPwVgK3_Dwo",
        "colab_type": "code",
        "colab": {}
      },
      "source": [
        "import pandas as pd\n",
        "import numpy as np\n",
        "import matplotlib.pyplot as plt\n",
        "\n",
        "from joblib import dump, load\n",
        "\n",
        "from sklearn.preprocessing import StandardScaler\n",
        "from sklearn.model_selection import train_test_split\n",
        "\n",
        "from sklearn.svm import SVC, l1_min_c\n",
        "from sklearn.linear_model import LogisticRegression\n",
        "from sklearn.discriminant_analysis import LinearDiscriminantAnalysis\n",
        "from sklearn.discriminant_analysis import QuadraticDiscriminantAnalysis\n",
        "from sklearn.naive_bayes import GaussianNB\n",
        "from sklearn.ensemble import GradientBoostingRegressor\n",
        "from sklearn.ensemble import GradientBoostingClassifier\n",
        "from sklearn.ensemble import RandomForestRegressor\n",
        "from sklearn.ensemble import RandomForestClassifier\n",
        "from sklearn.ensemble import VotingClassifier\n",
        "from sklearn.model_selection import GridSearchCV, RandomizedSearchCV\n",
        "from sklearn import metrics\n",
        "\n",
        "from sklearn.cluster import KMeans\n",
        "from sklearn.mixture import GaussianMixture\n",
        "from sklearn.decomposition import PCA"
      ],
      "execution_count": 0,
      "outputs": []
    },
    {
      "cell_type": "markdown",
      "metadata": {
        "id": "P2kMHz_7D72f",
        "colab_type": "text"
      },
      "source": [
        "**Load data**"
      ]
    },
    {
      "cell_type": "code",
      "metadata": {
        "id": "KcNh_xeeRde6",
        "colab_type": "code",
        "colab": {}
      },
      "source": [
        "# currently the coding is \n",
        "# run cleaning code\n",
        "# url = 'https://raw.githubusercontent.com/boyercb/bst263-final-project/master/mydata_unique.csv'\n",
        "url = 'https://raw.githubusercontent.com/boyercb/bst263-final-project/master/'\n",
        "mydata = pd.read_csv(url + \"mydata_all.csv\")\n",
        "\n",
        "X_train = pd.read_csv(url + \"X_train.csv\")\n",
        "X_test = pd.read_csv(url + \"X_test.csv\")\n",
        "\n",
        "y_train = pd.read_csv(url + \"y_train.csv\", header=None)\n",
        "y_test = pd.read_csv(url + \"y_test.csv\", header=None)\n",
        "\n",
        "y_train = y_train.iloc[:, 0]\n",
        "y_test = y_test.iloc[:, 0]"
      ],
      "execution_count": 0,
      "outputs": []
    },
    {
      "cell_type": "markdown",
      "metadata": {
        "id": "-Rq5KxdIE0u1",
        "colab_type": "text"
      },
      "source": [
        "**SKIP/COMMENT OUT THIS SECTION IF RUNNING AUGMENTED**"
      ]
    },
    {
      "cell_type": "code",
      "metadata": {
        "id": "ZYK8uBm9RxYG",
        "colab_type": "code",
        "colab": {}
      },
      "source": [
        "# create training and validation sets\n",
        "\n",
        "# total column number\n",
        "#cols = mydata.shape[1]\n",
        "#col_image_end = cols-5\n",
        "#col_label = cols-1\n",
        "\n",
        "#train, test = train_test_split(mydata, test_size=0.20, random_state=42)\n",
        "\n",
        "#X_train, y_train = train.iloc[:, 0:col_image_end], train.iloc[:, col_label]\n",
        "#X_test, y_test = test.iloc[:, 0:col_image_end], test.iloc[:, col_label]\n",
        "\n"
      ],
      "execution_count": 0,
      "outputs": []
    },
    {
      "cell_type": "markdown",
      "metadata": {
        "id": "hxu4Y5vBmZkG",
        "colab_type": "text"
      },
      "source": [
        "**Image pre-processing**"
      ]
    },
    {
      "cell_type": "code",
      "metadata": {
        "id": "7hXcBXxv1K-B",
        "colab_type": "code",
        "colab": {}
      },
      "source": [
        "# preprocessing \n",
        "scaler = StandardScaler().fit(X_train)\n",
        "X_std = scaler.fit_transform(X_train)\n",
        "X_test_std = scaler.fit_transform(X_test)\n",
        "\n",
        "# constants\n",
        "n_folds = 10\n",
        "seed = 3370\n",
        "\n",
        "model_names = [\"SVM RBF\", \"Logistic\", \"Random Forest\", \"LDA\", \"QDA\", \"XGBoost\", \"Naive Bayes\", \"Ensemble\"]\n",
        "filenames = [\"svm_rbf_aug\", \"logistic_aug\", \"rf_aug\", \"LDA_aug\", \"QDA_aug\", \"gb_aug\", \"bayes_aug\", \"ensemble_aug\"]\n",
        "\n",
        "# tuning parameters\n",
        "svm_rbf_params = {\n",
        "    'C': np.logspace(-4, 1, 25), \n",
        "    'gamma': np.logspace(-4, 0, 5)\n",
        "}\n",
        "\n",
        "svm_poly_params = {\n",
        "    'C': np.logspace(-4, 1.5, 25), \n",
        "    'gamma': np.logspace(-4, 0, 5)\n",
        "}\n",
        "\n",
        "svm_sig_params = {\n",
        "    'C': np.logspace(-4, 1, 25), \n",
        "    'gamma': np.logspace(-4, 0, 5)\n",
        "}\n",
        "\n",
        "svm_lin_params = {'C': np.logspace(-4, 0, 25)}\n",
        "\n",
        "logit_params = {\n",
        "    'C': np.logspace(-4, 0.5, 25), \n",
        "    'intercept_scaling': [100000],\n",
        "    }\n",
        "\n",
        "rf_params = {\n",
        "    'bootstrap': [True],\n",
        "    'max_depth': [int(x) for x in np.linspace(1, 100, 11)],\n",
        "    'max_features': ['sqrt'],\n",
        "    'min_samples_leaf': [3, 4],\n",
        "    'min_samples_split': [8, 9, 10],\n",
        "    'n_estimators': [int(x) for x in np.linspace(50, 1000, 5)]\n",
        "}\n",
        "\n",
        "gb_params = {\n",
        "    'learning_rate': np.linspace(0.01, 0.1, num = 4),\n",
        "    'max_depth': [1, 5, 10, 20, 40, 80, 100],\n",
        "    'subsample': [0.8],\n",
        "    'max_features': ['sqrt'],\n",
        "    'min_samples_leaf': [3],\n",
        "    'min_samples_split': [8],\n",
        "    'n_estimators': [int(x) for x in np.linspace(10, 1000, 5)]\n",
        "}"
      ],
      "execution_count": 0,
      "outputs": []
    },
    {
      "cell_type": "markdown",
      "metadata": {
        "id": "J7SZJecGmkRp",
        "colab_type": "text"
      },
      "source": [
        "**Model 1: SVM**\n",
        "1. Use \"rbf\" kernel"
      ]
    },
    {
      "cell_type": "code",
      "metadata": {
        "id": "LuHu7JzlzLCz",
        "colab_type": "code",
        "outputId": "5e17ae10-9dca-470a-e89a-4ecb74a1f40d",
        "colab": {
          "base_uri": "https://localhost:8080/",
          "height": 153
        }
      },
      "source": [
        "# model: SVM - rbf\n",
        "svc_rbf = SVC(kernel = \"rbf\", random_state=seed)\n",
        "svm_rbf = GridSearchCV(\n",
        "    svc_rbf, \n",
        "    svm_rbf_params, \n",
        "    cv=n_folds, \n",
        "    scoring='accuracy',\n",
        "    verbose=2,\n",
        "    n_jobs=-1\n",
        "    )\n",
        "svm_rbf.fit = svm_rbf.fit(X_std, y_train)"
      ],
      "execution_count": 4,
      "outputs": [
        {
          "output_type": "stream",
          "text": [
            "Fitting 10 folds for each of 125 candidates, totalling 1250 fits\n"
          ],
          "name": "stdout"
        },
        {
          "output_type": "stream",
          "text": [
            "[Parallel(n_jobs=-1)]: Using backend LokyBackend with 12 concurrent workers.\n",
            "[Parallel(n_jobs=-1)]: Done  17 tasks      | elapsed:   11.4s\n",
            "[Parallel(n_jobs=-1)]: Done 138 tasks      | elapsed:  1.0min\n",
            "[Parallel(n_jobs=-1)]: Done 341 tasks      | elapsed:  2.6min\n",
            "[Parallel(n_jobs=-1)]: Done 624 tasks      | elapsed:  4.9min\n",
            "[Parallel(n_jobs=-1)]: Done 989 tasks      | elapsed:  7.7min\n",
            "[Parallel(n_jobs=-1)]: Done 1250 out of 1250 | elapsed:  9.7min finished\n"
          ],
          "name": "stderr"
        }
      ]
    },
    {
      "cell_type": "markdown",
      "metadata": {
        "id": "Y1Y3sAVjnO_Y",
        "colab_type": "text"
      },
      "source": [
        "2. Use \"poly\" kernel\n"
      ]
    },
    {
      "cell_type": "code",
      "metadata": {
        "id": "utl7F8Ktn0yj",
        "colab_type": "code",
        "outputId": "d1707c66-f861-4040-b5ba-2a8391eb5e8e",
        "colab": {
          "base_uri": "https://localhost:8080/",
          "height": 153
        }
      },
      "source": [
        "# model: SVM - poly kernel\n",
        "svc_poly = SVC(kernel = \"poly\", random_state=seed)\n",
        "svm_poly = GridSearchCV(\n",
        "    svc_poly, \n",
        "    svm_poly_params, \n",
        "    cv=n_folds, \n",
        "    scoring='accuracy',\n",
        "    verbose=2,\n",
        "    n_jobs=-1\n",
        ")\n",
        "svm_poly.fit = svm_poly.fit(X_std, y_train)"
      ],
      "execution_count": 5,
      "outputs": [
        {
          "output_type": "stream",
          "text": [
            "Fitting 10 folds for each of 125 candidates, totalling 1250 fits\n"
          ],
          "name": "stdout"
        },
        {
          "output_type": "stream",
          "text": [
            "[Parallel(n_jobs=-1)]: Using backend LokyBackend with 12 concurrent workers.\n",
            "[Parallel(n_jobs=-1)]: Done  17 tasks      | elapsed:    9.9s\n",
            "[Parallel(n_jobs=-1)]: Done 138 tasks      | elapsed:  1.0min\n",
            "[Parallel(n_jobs=-1)]: Done 341 tasks      | elapsed:  2.5min\n",
            "[Parallel(n_jobs=-1)]: Done 624 tasks      | elapsed:  4.5min\n",
            "[Parallel(n_jobs=-1)]: Done 989 tasks      | elapsed:  7.1min\n",
            "[Parallel(n_jobs=-1)]: Done 1250 out of 1250 | elapsed:  9.0min finished\n"
          ],
          "name": "stderr"
        }
      ]
    },
    {
      "cell_type": "markdown",
      "metadata": {
        "id": "gnBIbVIsrRry",
        "colab_type": "text"
      },
      "source": [
        "3. Use \"sigmoid\" kernel"
      ]
    },
    {
      "cell_type": "code",
      "metadata": {
        "id": "alvpLCo7rbIo",
        "colab_type": "code",
        "outputId": "3175e9b8-621f-4172-f7d7-75d78a0a08d3",
        "colab": {
          "base_uri": "https://localhost:8080/",
          "height": 153
        }
      },
      "source": [
        "# model: SVM - sigmoid kernel\n",
        "svc_sig = SVC(kernel = \"sigmoid\", random_state=seed)\n",
        "svm_sig = GridSearchCV(\n",
        "    svc_sig, \n",
        "    svm_sig_params, \n",
        "    cv=n_folds, \n",
        "    scoring='accuracy',\n",
        "    verbose=2,\n",
        "    n_jobs=-1\n",
        ")\n",
        "svm_sig.fit = svm_sig.fit(X_std, y_train)"
      ],
      "execution_count": 6,
      "outputs": [
        {
          "output_type": "stream",
          "text": [
            "Fitting 10 folds for each of 125 candidates, totalling 1250 fits\n"
          ],
          "name": "stdout"
        },
        {
          "output_type": "stream",
          "text": [
            "[Parallel(n_jobs=-1)]: Using backend LokyBackend with 12 concurrent workers.\n",
            "[Parallel(n_jobs=-1)]: Done  17 tasks      | elapsed:    9.7s\n",
            "[Parallel(n_jobs=-1)]: Done 138 tasks      | elapsed:  1.0min\n",
            "[Parallel(n_jobs=-1)]: Done 341 tasks      | elapsed:  2.4min\n",
            "[Parallel(n_jobs=-1)]: Done 624 tasks      | elapsed:  4.2min\n",
            "[Parallel(n_jobs=-1)]: Done 989 tasks      | elapsed:  5.7min\n",
            "[Parallel(n_jobs=-1)]: Done 1250 out of 1250 | elapsed:  6.5min finished\n"
          ],
          "name": "stderr"
        }
      ]
    },
    {
      "cell_type": "markdown",
      "metadata": {
        "id": "ovZrzD3ZrkIb",
        "colab_type": "text"
      },
      "source": [
        "4. Use \"linear\" kernel"
      ]
    },
    {
      "cell_type": "code",
      "metadata": {
        "id": "H7L46hLGrqhZ",
        "colab_type": "code",
        "outputId": "2d147182-e2fc-49cc-ef4a-16ab07609bdf",
        "colab": {
          "base_uri": "https://localhost:8080/",
          "height": 102
        }
      },
      "source": [
        "# model: SVM - linear kernel\n",
        "svc_lin = SVC(kernel = \"linear\", random_state=seed)\n",
        "svm_lin = GridSearchCV(\n",
        "    svc_lin, \n",
        "    svm_lin_params, \n",
        "    cv=n_folds, \n",
        "    scoring='accuracy', \n",
        "    verbose=2,\n",
        "    n_jobs=-1)\n",
        "svm_lin.fit = svm_lin.fit(X_std, y_train)"
      ],
      "execution_count": 7,
      "outputs": [
        {
          "output_type": "stream",
          "text": [
            "Fitting 10 folds for each of 25 candidates, totalling 250 fits\n"
          ],
          "name": "stdout"
        },
        {
          "output_type": "stream",
          "text": [
            "[Parallel(n_jobs=-1)]: Using backend LokyBackend with 12 concurrent workers.\n",
            "[Parallel(n_jobs=-1)]: Done  17 tasks      | elapsed:    6.6s\n",
            "[Parallel(n_jobs=-1)]: Done 138 tasks      | elapsed:   38.2s\n",
            "[Parallel(n_jobs=-1)]: Done 250 out of 250 | elapsed:  1.1min finished\n"
          ],
          "name": "stderr"
        }
      ]
    },
    {
      "cell_type": "markdown",
      "metadata": {
        "id": "L88yggMstOJ2",
        "colab_type": "text"
      },
      "source": [
        "5. Compare prediction AUCs across different kernels "
      ]
    },
    {
      "cell_type": "code",
      "metadata": {
        "id": "BrHujKlvtNbn",
        "colab_type": "code",
        "outputId": "e0e6708a-c0bb-412f-9ffd-e212d8ef4d89",
        "colab": {
          "base_uri": "https://localhost:8080/",
          "height": 334
        }
      },
      "source": [
        "svm_models = [svm_rbf, svm_poly, svm_sig, svm_lin]\n",
        "svm_names = [\"SVM - rbf\", \"SVM - polynomial\", \"SVM - sigmoid\", \"SVM - linear\"]\n",
        "\n",
        "aucs_test = []\n",
        "fig = plt.figure(figsize=(5,5))\n",
        "ax = fig.add_subplot(1, 1, 1)\n",
        "for mod in zip(svm_models, svm_names): \n",
        "    roc_output = metrics.plot_roc_curve(mod[0], X_test_std, y_test, \n",
        "                                        ax=ax, name=mod[1])\n",
        "    aucs_test.append(roc_output.roc_auc)\n",
        "\n",
        "ax.plot([0, 1], [0, 1], 'k--')\n",
        "plt.show()"
      ],
      "execution_count": 8,
      "outputs": [
        {
          "output_type": "display_data",
          "data": {
            "text/plain": [
              "<Figure size 360x360 with 1 Axes>"
            ],
            "image/png": "[encoded data removed]"
          },
          "metadata": {
            "tags": [],
            "needs_background": "light"
          }
        }
      ]
    },
    {
      "cell_type": "markdown",
      "metadata": {
        "id": "aqylv3ntoikR",
        "colab_type": "text"
      },
      "source": [
        "**Model 2: L1-logistic regression**"
      ]
    },
    {
      "cell_type": "code",
      "metadata": {
        "id": "sNkkfEhezVkO",
        "colab_type": "code",
        "outputId": "14d8368c-da6c-40f3-ab45-95d6daec7cbb",
        "colab": {
          "base_uri": "https://localhost:8080/",
          "height": 156
        }
      },
      "source": [
        "# model: L1-logistic regression\n",
        "logit = LogisticRegression(penalty='l1', solver='liblinear', random_state=seed)\n",
        "logistic = GridSearchCV(\n",
        "    logit, \n",
        "    logit_params, \n",
        "    cv=n_folds, \n",
        "    scoring='accuracy',\n",
        "    verbose=2,\n",
        "    n_jobs=-1\n",
        "    )\n",
        "\n",
        "logistic.fit = logistic.fit(X_std, y_train)"
      ],
      "execution_count": 9,
      "outputs": [
        {
          "output_type": "stream",
          "text": [
            "Fitting 10 folds for each of 25 candidates, totalling 250 fits\n"
          ],
          "name": "stdout"
        },
        {
          "output_type": "stream",
          "text": [
            "[Parallel(n_jobs=-1)]: Using backend LokyBackend with 12 concurrent workers.\n",
            "/Users/christopherboyer/anaconda3/lib/python3.7/site-packages/joblib/externals/loky/process_executor.py:706: UserWarning: A worker stopped while some jobs were given to the executor. This can be caused by a too short worker timeout or by a memory leak.\n",
            "  \"timeout or by a memory leak.\", UserWarning\n",
            "[Parallel(n_jobs=-1)]: Done  17 tasks      | elapsed:    1.0s\n",
            "[Parallel(n_jobs=-1)]: Done 138 tasks      | elapsed:    4.8s\n",
            "[Parallel(n_jobs=-1)]: Done 250 out of 250 | elapsed:   21.9s finished\n"
          ],
          "name": "stderr"
        }
      ]
    },
    {
      "cell_type": "code",
      "metadata": {
        "id": "vrKD4s4V6OjC",
        "colab_type": "code",
        "outputId": "f8f771f7-6a5c-46f6-f69b-4b96899c5e3f",
        "colab": {
          "base_uri": "https://localhost:8080/",
          "height": 404
        }
      },
      "source": [
        "# plot CV errors\n",
        "b = logistic.cv_results_['mean_test_score'].argmax()\n",
        "\n",
        "plt.figure().set_size_inches(8, 6)\n",
        "plt.plot(logit_params['C'],1 - logistic.cv_results_['mean_test_score'])\n",
        "plt.axvline(logit_params['C'][b], linestyle='--', color='red', label='Best log(C)')\n",
        "plt.ylabel('Misclassification error')\n",
        "plt.xlabel('ln(C)')\n",
        "plt.title('CV error of logistic regression')\n",
        "plt.legend(loc='lower right')\n",
        "plt.show()"
      ],
      "execution_count": 10,
      "outputs": [
        {
          "output_type": "display_data",
          "data": {
            "text/plain": [
              "<Figure size 576x432 with 1 Axes>"
            ],
            "image/png": "[encoded data removed]"
          },
          "metadata": {
            "tags": [],
            "needs_background": "light"
          }
        }
      ]
    },
    {
      "cell_type": "markdown",
      "metadata": {
        "id": "laG34RTgqvo-",
        "colab_type": "text"
      },
      "source": [
        "**Model 3: Random forest**"
      ]
    },
    {
      "cell_type": "code",
      "metadata": {
        "id": "RJQTX5VYzYVD",
        "colab_type": "code",
        "outputId": "86b327b7-5bd9-4f0b-c38b-0d7fdae5de67",
        "colab": {
          "base_uri": "https://localhost:8080/",
          "height": 173
        }
      },
      "source": [
        "# model: Random forest \n",
        "rf = RandomForestClassifier(random_state=seed)\n",
        "rf = GridSearchCV(  \n",
        "    estimator=rf, \n",
        "    param_grid=rf_params, \n",
        "    cv=n_folds, \n",
        "    scoring='accuracy',\n",
        "    verbose=2,  \n",
        "    n_jobs=-1\n",
        ")\n",
        "rf.fit = rf.fit(X_std, y_train)\n"
      ],
      "execution_count": 0,
      "outputs": [
        {
          "output_type": "stream",
          "text": [
            "Fitting 10 folds for each of 330 candidates, totalling 3300 fits\n"
          ],
          "name": "stdout"
        },
        {
          "output_type": "stream",
          "text": [
            "[Parallel(n_jobs=-1)]: Using backend LokyBackend with 12 concurrent workers.\n",
            "/Users/christopherboyer/anaconda3/lib/python3.7/site-packages/joblib/externals/loky/process_executor.py:706: UserWarning: A worker stopped while some jobs were given to the executor. This can be caused by a too short worker timeout or by a memory leak.\n",
            "  \"timeout or by a memory leak.\", UserWarning\n",
            "[Parallel(n_jobs=-1)]: Done  17 tasks      | elapsed:    2.2s\n",
            "[Parallel(n_jobs=-1)]: Done 138 tasks      | elapsed:   35.5s\n",
            "[Parallel(n_jobs=-1)]: Done 341 tasks      | elapsed:  2.1min\n",
            "[Parallel(n_jobs=-1)]: Done 624 tasks      | elapsed:  7.1min\n"
          ],
          "name": "stderr"
        }
      ]
    },
    {
      "cell_type": "markdown",
      "metadata": {
        "id": "XVtLWE3rq051",
        "colab_type": "text"
      },
      "source": [
        "**Model 4: LDA**\n",
        "1. Create PCs to reduce dimensions"
      ]
    },
    {
      "cell_type": "code",
      "metadata": {
        "id": "ZdRy03NC4IuB",
        "colab_type": "code",
        "colab": {}
      },
      "source": [
        "full_pca = PCA(random_state=0).fit(X_std)\n",
        "full_pca.n_components_\n",
        "\n",
        "cum_exp_var = np.cumsum(full_pca.explained_variance_ratio_)\n",
        "\n",
        "plt.plot(np.arange(len(cum_exp_var))+1, cum_exp_var)\n",
        "plt.xlabel('Number of Components')\n",
        "plt.ylabel('Proportion of Variance Explained');\n",
        "\n",
        "cutoffs = np.flip(np.arange(0.5, 1, 0.05))\n",
        "cutoffs_df = pd.DataFrame([[min(np.arange(len(cum_exp_var))[cum_exp_var > c]) + 1 for c in cutoffs]], \n",
        "                          columns=cutoffs, index=['Number of PCs Needed'])\n",
        "cutoffs_df.columns.name = 'Variance Explained'\n",
        "cutoffs_df"
      ],
      "execution_count": 0,
      "outputs": []
    },
    {
      "cell_type": "markdown",
      "metadata": {
        "id": "WHUo1zyn4xds",
        "colab_type": "text"
      },
      "source": [
        "2. Doing a grid search to find the optimal number of PCs that give the best prediction AUC"
      ]
    },
    {
      "cell_type": "code",
      "metadata": {
        "id": "jKKRhtGkfvM8",
        "colab_type": "code",
        "colab": {}
      },
      "source": [
        "# for i in range(1, 300, 1):\n",
        "#     final_pca = PCA(i, random_state=0).fit(X_std)\n",
        "#     X_std_transform = final_pca.transform(X_std)\n",
        "#     X_test_std_transform = final_pca.transform(X_test_std)\n",
        "\n",
        "#     # LDA\n",
        "#     LDA = LinearDiscriminantAnalysis()\n",
        "#     LDA.fit=LDA.fit(X_std_transform, y_train)\n",
        "\n",
        "#     y_pred = LDA.predict_proba(X_test_std_transform)[:,1]\n",
        "#     auc_output = metrics.roc_auc_score(y_test, y_pred)\n",
        "#     aucs_test.append(auc_output)"
      ],
      "execution_count": 0,
      "outputs": []
    },
    {
      "cell_type": "code",
      "metadata": {
        "id": "_T7N4JLX4cLo",
        "colab_type": "code",
        "outputId": "64819c83-ab0c-4279-85d5-014505f52f13",
        "colab": {
          "base_uri": "https://localhost:8080/",
          "height": 52
        }
      },
      "source": [
        "# aucs_test = []\n",
        "# for i in range(1, 300, 1):\n",
        "#     final_pca = PCA(i, random_state=0).fit(X_std)\n",
        "#     X_std_transform = final_pca.transform(X_std)\n",
        "#     X_test_std_transform = final_pca.transform(X_test_std)\n",
        "\n",
        "#     # LDA\n",
        "#     LDA = LinearDiscriminantAnalysis()\n",
        "#     LDA.fit=LDA.fit(X_std_transform, y_train)\n",
        "\n",
        "#     y_pred = LDA.predict_proba(X_test_std_transform)[:,1]\n",
        "#     auc_output = metrics.roc_auc_score(y_test, y_pred)\n",
        "#     aucs_test.append(auc_output)\n",
        "# lda_npc = np.argmax(aucs_test)\n",
        "# lda_pc = range(1, 300, 1)[lda_npc]\n",
        "# print(\"LDA optimal number of clusters: \" + str(lda_pc))\n",
        "# print(\"LDA best AUC: \" + str(aucs_test[lda_pc]))"
      ],
      "execution_count": 0,
      "outputs": [
        {
          "output_type": "stream",
          "text": [
            "LDA optimal number of clusters: 8\n",
            "LDA best AUC: 0.8023214285714286\n"
          ],
          "name": "stdout"
        }
      ]
    },
    {
      "cell_type": "markdown",
      "metadata": {
        "id": "N9MbPXnv91dH",
        "colab_type": "text"
      },
      "source": [
        "3. Re-fit LDA with optimal number of PCs\n",
        "\n"
      ]
    },
    {
      "cell_type": "code",
      "metadata": {
        "id": "6VGZYndAzn8O",
        "colab_type": "code",
        "outputId": "46b83464-3ff1-4cc1-d63c-141ebe93744f",
        "colab": {
          "base_uri": "https://localhost:8080/",
          "height": 497
        }
      },
      "source": [
        "# model: LDA\n",
        "lda_pca = PCA(153, random_state=0).fit(X_std)\n",
        "X_std_lda = lda_pca.transform(X_std)\n",
        "X_test_std_lda = lda_pca.transform(X_test_std)\n",
        "\n",
        "LDA = LinearDiscriminantAnalysis()\n",
        "LDA = LDA.fit(X_std_lda, y_train)\n",
        "\n",
        "fig = plt.figure(figsize=(8,8))\n",
        "ax = fig.add_subplot(1, 1, 1)\n",
        "roc_output = metrics.plot_roc_curve(LDA, X_test_std_lda, y_test, ax=ax, name=\"LDA\")\n",
        "\n",
        "ax.plot([0, 1], [0, 1], 'k--')\n",
        "plt.show()"
      ],
      "execution_count": 20,
      "outputs": [
        {
          "output_type": "display_data",
          "data": {
            "text/plain": [
              "<Figure size 576x576 with 1 Axes>"
            ],
            "image/png": "[encoded data removed]"
          },
          "metadata": {
            "tags": [],
            "needs_background": "light"
          }
        }
      ]
    },
    {
      "cell_type": "markdown",
      "metadata": {
        "id": "PBpLX1isq3WP",
        "colab_type": "text"
      },
      "source": [
        "**Model 5: QDA**\n",
        "\n",
        "1. Doing a grid search to find the optimal number of PCs that give the best prediction AUC"
      ]
    },
    {
      "cell_type": "code",
      "metadata": {
        "id": "uzRlRP4G-OOf",
        "colab_type": "code",
        "outputId": "ad7bb63a-8ec7-44e4-dd98-2f1cf8230c6f",
        "colab": {
          "base_uri": "https://localhost:8080/",
          "height": 52
        }
      },
      "source": [
        "# aucs_test = []\n",
        "# for i in range(1, 230, 1):\n",
        "#     final_pca = PCA(i, random_state=0).fit(X_std)\n",
        "#     X_std_transform = final_pca.transform(X_std)\n",
        "#     X_test_std_transform = final_pca.transform(X_test_std)\n",
        "\n",
        "#     # QDA\n",
        "#     QDA = QuadraticDiscriminantAnalysis()\n",
        "#     QDA.fit = QDA.fit(X_std_transform, y_train)\n",
        "\n",
        "#     y_pred = QDA.predict_proba(X_test_std_transform)[:,1]\n",
        "#     auc_output = metrics.roc_auc_score(y_test, y_pred)\n",
        "#     aucs_test.append(auc_output)\n",
        "# qda_npc = np.argmax(aucs_test)\n",
        "# qda_pc = range(1, 230, 1)[qda_npc]\n",
        "# print(\"QDA optimal number of clusters: \" + str(qda_pc))\n",
        "# print(\"QDA best AUC: \" + str(aucs_test[qda_pc]))"
      ],
      "execution_count": 0,
      "outputs": [
        {
          "output_type": "stream",
          "text": [
            "QDA optimal number of clusters: 32\n",
            "QDA best AUC: 0.7980357142857142\n"
          ],
          "name": "stdout"
        }
      ]
    },
    {
      "cell_type": "markdown",
      "metadata": {
        "id": "1zNhPuOw-to9",
        "colab_type": "text"
      },
      "source": [
        "2. Refit model with optimal number of clusters"
      ]
    },
    {
      "cell_type": "code",
      "metadata": {
        "id": "5u5Z1PM2zqBz",
        "colab_type": "code",
        "outputId": "b08fa406-d109-4b52-9c38-0ae1883f900c",
        "colab": {
          "base_uri": "https://localhost:8080/",
          "height": 497
        }
      },
      "source": [
        "# model: QDA\n",
        "qda_pca = PCA(153, random_state=0).fit(X_std)\n",
        "X_std_qda = qda_pca.transform(X_std)\n",
        "X_test_std_qda = qda_pca.transform(X_test_std)\n",
        "\n",
        "QDA = QuadraticDiscriminantAnalysis()\n",
        "QDA=QDA.fit(X_std_lda, y_train)\n",
        "\n",
        "fig = plt.figure(figsize=(8,8))\n",
        "ax = fig.add_subplot(1, 1, 1)\n",
        "roc_output = metrics.plot_roc_curve(QDA, X_test_std_lda, y_test, ax=ax, name=\"QDA\")\n",
        "\n",
        "ax.plot([0, 1], [0, 1], 'k--')\n",
        "plt.show()"
      ],
      "execution_count": 21,
      "outputs": [
        {
          "output_type": "display_data",
          "data": {
            "text/plain": [
              "<Figure size 576x576 with 1 Axes>"
            ],
            "image/png": "[encoded data removed]"
          },
          "metadata": {
            "tags": [],
            "needs_background": "light"
          }
        }
      ]
    },
    {
      "cell_type": "markdown",
      "metadata": {
        "id": "X0ijKCcGq5kX",
        "colab_type": "text"
      },
      "source": [
        "**Model 6: XGBoost**"
      ]
    },
    {
      "cell_type": "code",
      "metadata": {
        "id": "aANcuufUzawz",
        "colab_type": "code",
        "colab": {}
      },
      "source": [
        "# model: XGBoost\n",
        "gb = GradientBoostingClassifier(random_state=seed) \n",
        "gb = GridSearchCV(\n",
        "    estimator=gb, \n",
        "    param_grid=gb_params, \n",
        "    cv=n_folds, \n",
        "    scoring='accuracy',\n",
        "    verbose=2, \n",
        "    n_jobs=-1\n",
        ")\n",
        "gb.fit = gb.fit(X_std, y_train)"
      ],
      "execution_count": 0,
      "outputs": []
    },
    {
      "cell_type": "markdown",
      "metadata": {
        "id": "66g3looBDw3p",
        "colab_type": "text"
      },
      "source": [
        "**Model 7: Naive Bayes**"
      ]
    },
    {
      "cell_type": "code",
      "metadata": {
        "id": "puHjMpnS-spm",
        "colab_type": "code",
        "colab": {}
      },
      "source": [
        "# model: Naive Bayes\n",
        "bayes = GaussianNB()\n",
        "bayes.fit(X_std, y_train)"
      ],
      "execution_count": 0,
      "outputs": []
    },
    {
      "cell_type": "markdown",
      "metadata": {
        "id": "cl-OTXNpD6_6",
        "colab_type": "text"
      },
      "source": [
        "**Model 8: Voting Ensemble Classifier**"
      ]
    },
    {
      "cell_type": "code",
      "metadata": {
        "id": "FekaRnJIAr7V",
        "colab_type": "code",
        "colab": {}
      },
      "source": [
        "# model: Ensemble\n",
        "models = [\n",
        "          (\"Logistic\",logistic.best_estimator_),\n",
        "          (\"Random Forest\",rf.best_estimator_),\n",
        "          (\"XGBoost\",gb.best_estimator_),\n",
        "          (\"Naive Bayes\",bayes)]\n",
        "\n",
        "ensemble = VotingClassifier(estimators=models, voting='soft')\n",
        "ensemble.fit(X_std, y_train)"
      ],
      "execution_count": 0,
      "outputs": []
    },
    {
      "cell_type": "markdown",
      "metadata": {
        "id": "0pIF-IcKnjC5",
        "colab_type": "text"
      },
      "source": [
        "**Save trained models**"
      ]
    },
    {
      "cell_type": "code",
      "metadata": {
        "id": "zj0rQjzGnhS9",
        "colab_type": "code",
        "colab": {}
      },
      "source": [
        "for mod in zip(models, filenames):\n",
        "  dump(mod[0], mod[1])"
      ],
      "execution_count": 0,
      "outputs": []
    },
    {
      "cell_type": "markdown",
      "metadata": {
        "id": "qGVnX6e-qU2w",
        "colab_type": "text"
      },
      "source": [
        "**Load trained models (START HERE)**"
      ]
    },
    {
      "cell_type": "code",
      "metadata": {
        "id": "HRwLV108qQJS",
        "colab_type": "code",
        "outputId": "8b1c5377-7a79-4a3d-ace1-178c52054fea",
        "colab": {
          "base_uri": "https://localhost:8080/",
          "height": 355
        }
      },
      "source": [
        "svm_rbf = load('svm_rbf')\n",
        "logistic = load('logistic')\n",
        "rf = load('rf')\n",
        "LDA = load('LDA')\n",
        "QDA = load('QDA')\n",
        "gb = load('gb')\n",
        "bayes = load('bayes')\n",
        "ensemble = load('ensemble')"
      ],
      "execution_count": 0,
      "outputs": [
        {
          "output_type": "error",
          "ename": "FileNotFoundError",
          "evalue": "ignored",
          "traceback": [
            "\u001b[0;31m---------------------------------------------------------------------------\u001b[0m",
            "\u001b[0;31mFileNotFoundError\u001b[0m                         Traceback (most recent call last)",
            "\u001b[0;32m<ipython-input-64-4efa2166f1b9>\u001b[0m in \u001b[0;36m<module>\u001b[0;34m\u001b[0m\n\u001b[0;32m----> 1\u001b[0;31m \u001b[0msvm_rbf\u001b[0m \u001b[0;34m=\u001b[0m \u001b[0mload\u001b[0m\u001b[0;34m(\u001b[0m\u001b[0;34m'svm_rbf'\u001b[0m\u001b[0;34m)\u001b[0m\u001b[0;34m\u001b[0m\u001b[0;34m\u001b[0m\u001b[0m\n\u001b[0m\u001b[1;32m      2\u001b[0m \u001b[0mlogistic\u001b[0m \u001b[0;34m=\u001b[0m \u001b[0mload\u001b[0m\u001b[0;34m(\u001b[0m\u001b[0;34m'logistic'\u001b[0m\u001b[0;34m)\u001b[0m\u001b[0;34m\u001b[0m\u001b[0;34m\u001b[0m\u001b[0m\n\u001b[1;32m      3\u001b[0m \u001b[0mrf\u001b[0m \u001b[0;34m=\u001b[0m \u001b[0mload\u001b[0m\u001b[0;34m(\u001b[0m\u001b[0;34m'rf'\u001b[0m\u001b[0;34m)\u001b[0m\u001b[0;34m\u001b[0m\u001b[0;34m\u001b[0m\u001b[0m\n\u001b[1;32m      4\u001b[0m \u001b[0mLDA\u001b[0m \u001b[0;34m=\u001b[0m \u001b[0mload\u001b[0m\u001b[0;34m(\u001b[0m\u001b[0;34m'LDA'\u001b[0m\u001b[0;34m)\u001b[0m\u001b[0;34m\u001b[0m\u001b[0;34m\u001b[0m\u001b[0m\n\u001b[1;32m      5\u001b[0m \u001b[0mQDA\u001b[0m \u001b[0;34m=\u001b[0m \u001b[0mload\u001b[0m\u001b[0;34m(\u001b[0m\u001b[0;34m'QDA'\u001b[0m\u001b[0;34m)\u001b[0m\u001b[0;34m\u001b[0m\u001b[0;34m\u001b[0m\u001b[0m\n",
            "\u001b[0;32m/Library/Frameworks/Python.framework/Versions/3.8/lib/python3.8/site-packages/joblib/numpy_pickle.py\u001b[0m in \u001b[0;36mload\u001b[0;34m(filename, mmap_mode)\u001b[0m\n\u001b[1;32m    595\u001b[0m             \u001b[0mobj\u001b[0m \u001b[0;34m=\u001b[0m \u001b[0m_unpickle\u001b[0m\u001b[0;34m(\u001b[0m\u001b[0mfobj\u001b[0m\u001b[0;34m)\u001b[0m\u001b[0;34m\u001b[0m\u001b[0;34m\u001b[0m\u001b[0m\n\u001b[1;32m    596\u001b[0m     \u001b[0;32melse\u001b[0m\u001b[0;34m:\u001b[0m\u001b[0;34m\u001b[0m\u001b[0;34m\u001b[0m\u001b[0m\n\u001b[0;32m--> 597\u001b[0;31m         \u001b[0;32mwith\u001b[0m \u001b[0mopen\u001b[0m\u001b[0;34m(\u001b[0m\u001b[0mfilename\u001b[0m\u001b[0;34m,\u001b[0m \u001b[0;34m'rb'\u001b[0m\u001b[0;34m)\u001b[0m \u001b[0;32mas\u001b[0m \u001b[0mf\u001b[0m\u001b[0;34m:\u001b[0m\u001b[0;34m\u001b[0m\u001b[0;34m\u001b[0m\u001b[0m\n\u001b[0m\u001b[1;32m    598\u001b[0m             \u001b[0;32mwith\u001b[0m \u001b[0m_read_fileobject\u001b[0m\u001b[0;34m(\u001b[0m\u001b[0mf\u001b[0m\u001b[0;34m,\u001b[0m \u001b[0mfilename\u001b[0m\u001b[0;34m,\u001b[0m \u001b[0mmmap_mode\u001b[0m\u001b[0;34m)\u001b[0m \u001b[0;32mas\u001b[0m \u001b[0mfobj\u001b[0m\u001b[0;34m:\u001b[0m\u001b[0;34m\u001b[0m\u001b[0;34m\u001b[0m\u001b[0m\n\u001b[1;32m    599\u001b[0m                 \u001b[0;32mif\u001b[0m \u001b[0misinstance\u001b[0m\u001b[0;34m(\u001b[0m\u001b[0mfobj\u001b[0m\u001b[0;34m,\u001b[0m \u001b[0m_basestring\u001b[0m\u001b[0;34m)\u001b[0m\u001b[0;34m:\u001b[0m\u001b[0;34m\u001b[0m\u001b[0;34m\u001b[0m\u001b[0m\n",
            "\u001b[0;31mFileNotFoundError\u001b[0m: [Errno 2] No such file or directory: 'svm_rbf'"
          ]
        }
      ]
    },
    {
      "cell_type": "markdown",
      "metadata": {
        "id": "_j632_H1rDyM",
        "colab_type": "text"
      },
      "source": [
        "**Model evaluation and comparison**"
      ]
    },
    {
      "cell_type": "code",
      "metadata": {
        "id": "tMaHxZzmbaPX",
        "colab_type": "code",
        "colab": {}
      },
      "source": [
        "y_train_pred_svm_lin = svm_lin.fit.predict(X_std)\n",
        "y_train_pred_logistic = logistic.fit.predict(X_std)\n",
        "y_train_pred_rf = rf.fit.predict(X_std)\n",
        "y_train_pred_lda = LDA.fit.predict(X_std)\n",
        "y_train_pred_qda = QDA.fit.predict(X_std)\n",
        "y_train_pred_xgb = gb.fit.predict(X_std)\n",
        "y_train_pred_bayes = bayes.fit.predict(X_std)\n",
        "y_train_pred_ensemble = ensemble.fit.predict(X_std)\n"
      ],
      "execution_count": 0,
      "outputs": []
    },
    {
      "cell_type": "code",
      "metadata": {
        "id": "MAk5JtTZbwD9",
        "colab_type": "code",
        "outputId": "d6b96690-0313-4ab2-ecf9-6b3b40359eb2",
        "colab": {
          "base_uri": "https://localhost:8080/",
          "height": 497
        }
      },
      "source": [
        "models = [svm_lin, logistic, rf, LDA, QDA, gb, bayes, ensemble]\n",
        "\n",
        "aucs_train = []\n",
        "fig = plt.figure(figsize=(8,8))\n",
        "ax = fig.add_subplot(1, 1, 1)\n",
        "for mod in zip(models, model_names): \n",
        "    if mod[1] == \"LDA\":\n",
        "      roc_output = metrics.plot_roc_curve(mod[0], X_std_lda, y_train, \n",
        "                                        ax=ax, name=mod[1])\n",
        "    elif mod[1] == \"QDA\":\n",
        "      roc_output = metrics.plot_roc_curve(mod[0], X_std_qda, y_train, \n",
        "                                        ax=ax, name=mod[1])\n",
        "    else:\n",
        "      roc_output = metrics.plot_roc_curve(mod[0], X_std, y_train, \n",
        "                                        ax=ax, name=mod[1])\n",
        "    aucs_train.append(roc_output.roc_auc)\n",
        "\n",
        "ax.plot([0, 1], [0, 1], 'k--')\n",
        "plt.show()"
      ],
      "execution_count": 29,
      "outputs": [
        {
          "output_type": "display_data",
          "data": {
            "text/plain": [
              "<Figure size 576x576 with 1 Axes>"
            ],
            "image/png": "[encoded data removed]"
          },
          "metadata": {
            "tags": [],
            "needs_background": "light"
          }
        }
      ]
    },
    {
      "cell_type": "code",
      "metadata": {
        "id": "wiUA7cvubxfF",
        "colab_type": "code",
        "colab": {}
      },
      "source": [
        "y_test_pred_svm_lin = svm_lin.fit.predict(X_test_std)\n",
        "y_test_pred_logistic = logistic.fit.predict(X_test_std)\n",
        "y_test_pred_rf = rf.fit.predict(X_test_std)\n",
        "y_test_pred_lda = LDA.predict(X_test_std_lda)\n",
        "y_test_pred_qda = QDA.predict(X_test_std_qda)\n",
        "y_test_pred_xgb = gb.fit.predict(X_test_std)\n",
        "y_test_pred_ensemble = ensemble.predict(X_test_std)"
      ],
      "execution_count": 0,
      "outputs": []
    },
    {
      "cell_type": "code",
      "metadata": {
        "id": "KYLQo2lob8hM",
        "colab_type": "code",
        "outputId": "52fadecf-d7c4-486b-e98b-62ad173c3474",
        "colab": {
          "base_uri": "https://localhost:8080/",
          "height": 497
        }
      },
      "source": [
        "\n",
        "aucs_test = []\n",
        "fig = plt.figure(figsize=(8,8))\n",
        "ax = fig.add_subplot(1, 1, 1)\n",
        "for mod in zip(models, model_names): \n",
        "    if mod[1] == \"LDA\":\n",
        "      roc_output = metrics.plot_roc_curve(mod[0], X_test_std_lda, y_test, \n",
        "                                        ax=ax, name=mod[1])\n",
        "    elif mod[1] == \"QDA\":\n",
        "      roc_output = metrics.plot_roc_curve(mod[0], X_test_std_qda, y_test, \n",
        "                                        ax=ax, name=mod[1])\n",
        "    else:\n",
        "      roc_output = metrics.plot_roc_curve(mod[0], X_test_std, y_test, \n",
        "                                        ax=ax, name=mod[1])\n",
        "    aucs_test.append(roc_output.roc_auc)\n",
        "\n",
        "ax.plot([0, 1], [0, 1], 'k--')\n",
        "plt.show()\n"
      ],
      "execution_count": 30,
      "outputs": [
        {
          "output_type": "display_data",
          "data": {
            "text/plain": [
              "<Figure size 576x576 with 1 Axes>"
            ],
            "image/png": "[encoded data removed]"
          },
          "metadata": {
            "tags": [],
            "needs_background": "light"
          }
        }
      ]
    },
    {
      "cell_type": "code",
      "metadata": {
        "id": "wiC4pBbpb_IV",
        "colab_type": "code",
        "outputId": "20cda6ae-a3bd-4d39-cf97-fbe5ffa20419",
        "colab": {
          "base_uri": "https://localhost:8080/",
          "height": 111
        }
      },
      "source": [
        "pd.DataFrame(np.vstack([aucs_train, aucs_test]), \n",
        "             index=[\"Training AUC\", \"Test AUC\"], \n",
        "             columns=model_names)"
      ],
      "execution_count": 35,
      "outputs": [
        {
          "output_type": "execute_result",
          "data": {
            "text/plain": [
              "               SVM RBF  Logistic  Random Forest       LDA       QDA   XGBoost  \\\n",
              "Training AUC  0.949722  0.939125       0.997915  0.935119  0.929274  1.000000   \n",
              "Test AUC      0.826699  0.836558       0.820912  0.830557  0.775015  0.833252   \n",
              "\n",
              "              Naive Bayes  Ensemble  \n",
              "Training AUC     0.853565  0.988399  \n",
              "Test AUC         0.752633  0.831660  "
            ],
            "text/html": [
              "<div>\n",
              "<style scoped>\n",
              "    .dataframe tbody tr th:only-of-type {\n",
              "        vertical-align: middle;\n",
              "    }\n",
              "\n",
              "    .dataframe tbody tr th {\n",
              "        vertical-align: top;\n",
              "    }\n",
              "\n",
              "    .dataframe thead th {\n",
              "        text-align: right;\n",
              "    }\n",
              "</style>\n",
              "<table border=\"1\" class=\"dataframe\">\n",
              "  <thead>\n",
              "    <tr style=\"text-align: right;\">\n",
              "      <th></th>\n",
              "      <th>SVM RBF</th>\n",
              "      <th>Logistic</th>\n",
              "      <th>Random Forest</th>\n",
              "      <th>LDA</th>\n",
              "      <th>QDA</th>\n",
              "      <th>XGBoost</th>\n",
              "      <th>Naive Bayes</th>\n",
              "      <th>Ensemble</th>\n",
              "    </tr>\n",
              "  </thead>\n",
              "  <tbody>\n",
              "    <tr>\n",
              "      <th>Training AUC</th>\n",
              "      <td>0.949722</td>\n",
              "      <td>0.939125</td>\n",
              "      <td>0.997915</td>\n",
              "      <td>0.935119</td>\n",
              "      <td>0.929274</td>\n",
              "      <td>1.000000</td>\n",
              "      <td>0.853565</td>\n",
              "      <td>0.988399</td>\n",
              "    </tr>\n",
              "    <tr>\n",
              "      <th>Test AUC</th>\n",
              "      <td>0.826699</td>\n",
              "      <td>0.836558</td>\n",
              "      <td>0.820912</td>\n",
              "      <td>0.830557</td>\n",
              "      <td>0.775015</td>\n",
              "      <td>0.833252</td>\n",
              "      <td>0.752633</td>\n",
              "      <td>0.831660</td>\n",
              "    </tr>\n",
              "  </tbody>\n",
              "</table>\n",
              "</div>"
            ]
          },
          "metadata": {
            "tags": []
          },
          "execution_count": 35
        }
      ]
    },
    {
      "cell_type": "markdown",
      "metadata": {
        "id": "e1zbnGC9rJg6",
        "colab_type": "text"
      },
      "source": [
        "**Clustering/Data reduction**"
      ]
    },
    {
      "cell_type": "code",
      "metadata": {
        "id": "UZnnIVJASgw-",
        "colab_type": "code",
        "outputId": "c7a52171-4e08-49c4-e484-f4eb2dc90a31",
        "colab": {
          "base_uri": "https://localhost:8080/",
          "height": 342
        }
      },
      "source": [
        "# Generate PCAR\n",
        "from sklearn.decomposition import PCA\n",
        "full_pca = PCA(random_state=0).fit(X_std)\n",
        "full_pca.n_components_\n",
        "\n",
        "cum_exp_var = np.cumsum(full_pca.explained_variance_ratio_)\n",
        "\n",
        "plt.plot(np.arange(len(cum_exp_var))+1, cum_exp_var)\n",
        "plt.xlabel('Number of Components')\n",
        "plt.ylabel('Proportion of Variance Explained');\n",
        "\n",
        "cutoffs = np.flip(np.arange(0.5, 1, 0.05))\n",
        "cutoffs_df = pd.DataFrame([[min(np.arange(len(cum_exp_var))[cum_exp_var > c]) + 1 for c in cutoffs]], \n",
        "                          columns=cutoffs, index=['Number of PCs Needed'])\n",
        "cutoffs_df.columns.name = 'Variance Explained'\n",
        "cutoffs_df\n"
      ],
      "execution_count": 0,
      "outputs": [
        {
          "output_type": "execute_result",
          "data": {
            "text/plain": [
              "Variance Explained    0.95  0.90  0.85  0.80  0.75  0.70  0.65  0.60  0.55  \\\n",
              "Number of PCs Needed   238   153   104    70    46    29    17     9     5   \n",
              "\n",
              "Variance Explained    0.50  \n",
              "Number of PCs Needed     3  "
            ],
            "text/html": [
              "<div>\n",
              "<style scoped>\n",
              "    .dataframe tbody tr th:only-of-type {\n",
              "        vertical-align: middle;\n",
              "    }\n",
              "\n",
              "    .dataframe tbody tr th {\n",
              "        vertical-align: top;\n",
              "    }\n",
              "\n",
              "    .dataframe thead th {\n",
              "        text-align: right;\n",
              "    }\n",
              "</style>\n",
              "<table border=\"1\" class=\"dataframe\">\n",
              "  <thead>\n",
              "    <tr style=\"text-align: right;\">\n",
              "      <th>Variance Explained</th>\n",
              "      <th>0.95</th>\n",
              "      <th>0.90</th>\n",
              "      <th>0.85</th>\n",
              "      <th>0.80</th>\n",
              "      <th>0.75</th>\n",
              "      <th>0.70</th>\n",
              "      <th>0.65</th>\n",
              "      <th>0.60</th>\n",
              "      <th>0.55</th>\n",
              "      <th>0.50</th>\n",
              "    </tr>\n",
              "  </thead>\n",
              "  <tbody>\n",
              "    <tr>\n",
              "      <th>Number of PCs Needed</th>\n",
              "      <td>238</td>\n",
              "      <td>153</td>\n",
              "      <td>104</td>\n",
              "      <td>70</td>\n",
              "      <td>46</td>\n",
              "      <td>29</td>\n",
              "      <td>17</td>\n",
              "      <td>9</td>\n",
              "      <td>5</td>\n",
              "      <td>3</td>\n",
              "    </tr>\n",
              "  </tbody>\n",
              "</table>\n",
              "</div>"
            ]
          },
          "metadata": {
            "tags": []
          },
          "execution_count": 14
        },
        {
          "output_type": "display_data",
          "data": {
            "text/plain": [
              "<Figure size 432x288 with 1 Axes>"
            ],
            "image/png": "[encoded data removed]"
          },
          "metadata": {
            "tags": [],
            "needs_background": "light"
          }
        }
      ]
    },
    {
      "cell_type": "code",
      "metadata": {
        "id": "6f69KL1yUa0T",
        "colab_type": "code",
        "colab": {}
      },
      "source": [
        "# model: KMeans\n",
        "final_pca = PCA(165, random_state=0).fit(X_train)\n",
        "pixels_transform = final_pca.transform(X_train)\n",
        "\n",
        "kmeans_kpp = KMeans(n_clusters=2, init='k-means++', n_init=1, random_state=0).fit(pixels_transform)\n",
        "kmeans_kpp_labels = kmeans_kpp.labels_"
      ],
      "execution_count": 0,
      "outputs": []
    },
    {
      "cell_type": "code",
      "metadata": {
        "id": "pJuDUY0ZUXGa",
        "colab_type": "code",
        "colab": {}
      },
      "source": [
        "# model: EM\n",
        "em_kmeans = GaussianMixture(n_components=2, init_params='kmeans', n_init=1, random_state=0).fit(pixels_transform)\n",
        "em_kmeans_labels = em_kmeans.predict(pixels_transform)"
      ],
      "execution_count": 0,
      "outputs": []
    },
    {
      "cell_type": "code",
      "metadata": {
        "id": "wKtM-711UTVD",
        "colab_type": "code",
        "outputId": "84096c15-e129-411a-fd90-154a7c542e70",
        "colab": {
          "base_uri": "https://localhost:8080/",
          "height": 136
        }
      },
      "source": [
        "svm_pca_rbf = GridSearchCV(\n",
        "    svc_rbf, \n",
        "    svm_rbf_params, \n",
        "    cv=n_folds, \n",
        "    scoring='accuracy',\n",
        "    verbose=2,\n",
        "    n_jobs=-1\n",
        "    )\n",
        "svm_pca_rbf.fit = svm_rbf.fit(pixels_transform, y_train)"
      ],
      "execution_count": 0,
      "outputs": [
        {
          "output_type": "stream",
          "text": [
            "Fitting 10 folds for each of 125 candidates, totalling 1250 fits\n"
          ],
          "name": "stdout"
        },
        {
          "output_type": "stream",
          "text": [
            "[Parallel(n_jobs=-1)]: Using backend LokyBackend with 12 concurrent workers.\n",
            "[Parallel(n_jobs=-1)]: Done  17 tasks      | elapsed:    2.3s\n",
            "[Parallel(n_jobs=-1)]: Done 156 tasks      | elapsed:    3.5s\n",
            "[Parallel(n_jobs=-1)]: Done 562 tasks      | elapsed:    6.9s\n",
            "[Parallel(n_jobs=-1)]: Done 1128 tasks      | elapsed:   11.2s\n",
            "[Parallel(n_jobs=-1)]: Done 1250 out of 1250 | elapsed:   12.3s finished\n"
          ],
          "name": "stderr"
        }
      ]
    },
    {
      "cell_type": "code",
      "metadata": {
        "id": "phZPJyBqWMzf",
        "colab_type": "code",
        "outputId": "8547b89c-ff45-4fe8-e796-2a6e5520764c",
        "colab": {
          "base_uri": "https://localhost:8080/",
          "height": 497
        }
      },
      "source": [
        "fig = plt.figure(figsize=(8,8))\n",
        "ax = fig.add_subplot(1, 1, 1)\n",
        "roc_output = metrics.plot_roc_curve(svm_rbf, final_pca.transform(X_test), y_test, \n",
        "                                        ax=ax, name=\"SVM + PCA\")\n",
        "ax.plot([0, 1], [0, 1], 'k--')\n",
        "plt.show()"
      ],
      "execution_count": 0,
      "outputs": [
        {
          "output_type": "display_data",
          "data": {
            "text/plain": [
              "<Figure size 576x576 with 1 Axes>"
            ],
            "image/png": "[encoded data removed]"
          },
          "metadata": {
            "tags": [],
            "needs_background": "light"
          }
        }
      ]
    },
    {
      "cell_type": "markdown",
      "metadata": {
        "id": "E7Zjb7i8CyBY",
        "colab_type": "text"
      },
      "source": [
        "**Data Augmentation**"
      ]
    },
    {
      "cell_type": "code",
      "metadata": {
        "id": "-GzjgxzL1YT_",
        "colab_type": "code",
        "outputId": "d97673f5-628b-4543-a3a5-ebd83002a7a8",
        "colab": {
          "base_uri": "https://localhost:8080/",
          "height": 34
        }
      },
      "source": [
        "metrics.accuracy_score(y_test, y_test_pred_ensemble)"
      ],
      "execution_count": 34,
      "outputs": [
        {
          "output_type": "execute_result",
          "data": {
            "text/plain": [
              "0.7392996108949417"
            ]
          },
          "metadata": {
            "tags": []
          },
          "execution_count": 34
        }
      ]
    }
  ]
}