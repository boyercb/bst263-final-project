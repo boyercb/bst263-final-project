{
  "nbformat": 4,
  "nbformat_minor": 0,
  "metadata": {
    "colab": {
      "name": "BST 263 Final Project.ipynb",
      "provenance": [],
      "collapsed_sections": [],
      "include_colab_link": true
    },
    "kernelspec": {
      "name": "python3",
      "display_name": "Python 3"
    }
  },
  "cells": [
    {
      "cell_type": "markdown",
      "metadata": {
        "id": "view-in-github",
        "colab_type": "text"
      },
      "source": [
        "<a href=\"https://colab.research.google.com/github/boyercb/bst263-final-project/blob/master/BST_263_Final_Project.ipynb\" target=\"_parent\"><img src=\"https://colab.research.google.com/assets/colab-badge.svg\" alt=\"Open In Colab\"/></a>"
      ]
    },
    {
      "cell_type": "code",
      "metadata": {
        "id": "DcPwVgK3_Dwo",
        "colab_type": "code",
        "colab": {}
      },
      "source": [
        "import pandas as pd\n",
        "import numpy as np\n",
        "import matplotlib.pyplot as plt\n",
        "\n",
        "from sklearn.preprocessing import StandardScaler\n",
        "from sklearn.model_selection import train_test_split\n",
        "\n",
        "from sklearn.svm import SVC, l1_min_c\n",
        "from sklearn.linear_model import LogisticRegression\n",
        "from sklearn.discriminant_analysis import LinearDiscriminantAnalysis\n",
        "from sklearn.discriminant_analysis import QuadraticDiscriminantAnalysis\n",
        "from sklearn.ensemble import GradientBoostingRegressor\n",
        "from sklearn.ensemble import GradientBoostingClassifier\n",
        "from sklearn.ensemble import RandomForestRegressor\n",
        "from sklearn.ensemble import RandomForestClassifier\n",
        "from sklearn.model_selection import GridSearchCV\n",
        "from sklearn import metrics\n",
        "\n",
        "from sklearn.cluster import KMeans\n",
        "from sklearn.mixture import GaussianMixture"
      ],
      "execution_count": 0,
      "outputs": []
    },
    {
      "cell_type": "code",
      "metadata": {
        "id": "KcNh_xeeRde6",
        "colab_type": "code",
        "colab": {}
      },
      "source": [
        "# currently the coding is \n",
        "# run cleaning code\n",
        "# url = 'https://raw.githubusercontent.com/boyercb/bst263-final-project/master/mydata_unique.csv'\n",
        "# url = 'https://raw.githubusercontent.com/boyercb/bst263-final-project/master/mydata_all.csv'\n",
        "\n",
        "# Please use my url here since Chloe and I might keep updating and adding new dataset to here. \n",
        "url= 'https://raw.githubusercontent.com/lcareflektor/bst263finalProject/master/mydata_all.csv'\n",
        "mydata = pd.read_csv(url)"
      ],
      "execution_count": 0,
      "outputs": []
    },
    {
      "cell_type": "code",
      "metadata": {
        "id": "wSdLSshlaXjF",
        "colab_type": "code",
        "outputId": "7fb35669-7b47-4b21-9865-55ee5a782478",
        "colab": {
          "base_uri": "https://localhost:8080/",
          "height": 253
        }
      },
      "source": [
        "mydata.head(5)"
      ],
      "execution_count": 0,
      "outputs": [
        {
          "output_type": "execute_result",
          "data": {
            "text/html": [
              "<div>\n",
              "<style scoped>\n",
              "    .dataframe tbody tr th:only-of-type {\n",
              "        vertical-align: middle;\n",
              "    }\n",
              "\n",
              "    .dataframe tbody tr th {\n",
              "        vertical-align: top;\n",
              "    }\n",
              "\n",
              "    .dataframe thead th {\n",
              "        text-align: right;\n",
              "    }\n",
              "</style>\n",
              "<table border=\"1\" class=\"dataframe\">\n",
              "  <thead>\n",
              "    <tr style=\"text-align: right;\">\n",
              "      <th></th>\n",
              "      <th>0</th>\n",
              "      <th>1</th>\n",
              "      <th>2</th>\n",
              "      <th>3</th>\n",
              "      <th>4</th>\n",
              "      <th>5</th>\n",
              "      <th>6</th>\n",
              "      <th>7</th>\n",
              "      <th>8</th>\n",
              "      <th>9</th>\n",
              "      <th>10</th>\n",
              "      <th>11</th>\n",
              "      <th>12</th>\n",
              "      <th>13</th>\n",
              "      <th>14</th>\n",
              "      <th>15</th>\n",
              "      <th>16</th>\n",
              "      <th>17</th>\n",
              "      <th>18</th>\n",
              "      <th>19</th>\n",
              "      <th>20</th>\n",
              "      <th>21</th>\n",
              "      <th>22</th>\n",
              "      <th>23</th>\n",
              "      <th>24</th>\n",
              "      <th>25</th>\n",
              "      <th>26</th>\n",
              "      <th>27</th>\n",
              "      <th>28</th>\n",
              "      <th>29</th>\n",
              "      <th>30</th>\n",
              "      <th>31</th>\n",
              "      <th>32</th>\n",
              "      <th>33</th>\n",
              "      <th>34</th>\n",
              "      <th>35</th>\n",
              "      <th>36</th>\n",
              "      <th>37</th>\n",
              "      <th>38</th>\n",
              "      <th>39</th>\n",
              "      <th>...</th>\n",
              "      <th>988</th>\n",
              "      <th>989</th>\n",
              "      <th>990</th>\n",
              "      <th>991</th>\n",
              "      <th>992</th>\n",
              "      <th>993</th>\n",
              "      <th>994</th>\n",
              "      <th>995</th>\n",
              "      <th>996</th>\n",
              "      <th>997</th>\n",
              "      <th>998</th>\n",
              "      <th>999</th>\n",
              "      <th>1000</th>\n",
              "      <th>1001</th>\n",
              "      <th>1002</th>\n",
              "      <th>1003</th>\n",
              "      <th>1004</th>\n",
              "      <th>1005</th>\n",
              "      <th>1006</th>\n",
              "      <th>1007</th>\n",
              "      <th>1008</th>\n",
              "      <th>1009</th>\n",
              "      <th>1010</th>\n",
              "      <th>1011</th>\n",
              "      <th>1012</th>\n",
              "      <th>1013</th>\n",
              "      <th>1014</th>\n",
              "      <th>1015</th>\n",
              "      <th>1016</th>\n",
              "      <th>1017</th>\n",
              "      <th>1018</th>\n",
              "      <th>1019</th>\n",
              "      <th>1020</th>\n",
              "      <th>1021</th>\n",
              "      <th>1022</th>\n",
              "      <th>1023</th>\n",
              "      <th>patient_id</th>\n",
              "      <th>age</th>\n",
              "      <th>gender</th>\n",
              "      <th>label</th>\n",
              "    </tr>\n",
              "  </thead>\n",
              "  <tbody>\n",
              "    <tr>\n",
              "      <th>0</th>\n",
              "      <td>0.047998</td>\n",
              "      <td>0.057597</td>\n",
              "      <td>0.076796</td>\n",
              "      <td>0.076796</td>\n",
              "      <td>0.047998</td>\n",
              "      <td>0.047998</td>\n",
              "      <td>0.038398</td>\n",
              "      <td>0.057597</td>\n",
              "      <td>0.105595</td>\n",
              "      <td>0.047998</td>\n",
              "      <td>0.057597</td>\n",
              "      <td>0.057597</td>\n",
              "      <td>0.038398</td>\n",
              "      <td>0.076796</td>\n",
              "      <td>0.067197</td>\n",
              "      <td>0.038398</td>\n",
              "      <td>0.076796</td>\n",
              "      <td>0.019199</td>\n",
              "      <td>0.038398</td>\n",
              "      <td>0.057597</td>\n",
              "      <td>0.057597</td>\n",
              "      <td>0.095995</td>\n",
              "      <td>0.047998</td>\n",
              "      <td>0.067197</td>\n",
              "      <td>0.028799</td>\n",
              "      <td>0.038398</td>\n",
              "      <td>0.047998</td>\n",
              "      <td>0.105595</td>\n",
              "      <td>0.124794</td>\n",
              "      <td>0.047998</td>\n",
              "      <td>0.038398</td>\n",
              "      <td>0.047998</td>\n",
              "      <td>0.105595</td>\n",
              "      <td>0.047998</td>\n",
              "      <td>0.028799</td>\n",
              "      <td>0.028799</td>\n",
              "      <td>0.047998</td>\n",
              "      <td>0.105595</td>\n",
              "      <td>0.095995</td>\n",
              "      <td>0.067197</td>\n",
              "      <td>...</td>\n",
              "      <td>0.115194</td>\n",
              "      <td>0.057597</td>\n",
              "      <td>0.057597</td>\n",
              "      <td>0.047998</td>\n",
              "      <td>0.115194</td>\n",
              "      <td>0.057597</td>\n",
              "      <td>0.076796</td>\n",
              "      <td>0.038398</td>\n",
              "      <td>0.057597</td>\n",
              "      <td>0.076796</td>\n",
              "      <td>0.086396</td>\n",
              "      <td>0.086396</td>\n",
              "      <td>0.047998</td>\n",
              "      <td>0.047998</td>\n",
              "      <td>0.086396</td>\n",
              "      <td>0.057597</td>\n",
              "      <td>0.076796</td>\n",
              "      <td>0.009600</td>\n",
              "      <td>0.038398</td>\n",
              "      <td>0.115194</td>\n",
              "      <td>0.067197</td>\n",
              "      <td>0.019199</td>\n",
              "      <td>0.086396</td>\n",
              "      <td>0.067197</td>\n",
              "      <td>0.076796</td>\n",
              "      <td>0.086396</td>\n",
              "      <td>0.086396</td>\n",
              "      <td>0.057597</td>\n",
              "      <td>0.057597</td>\n",
              "      <td>0.076796</td>\n",
              "      <td>0.086396</td>\n",
              "      <td>0.115194</td>\n",
              "      <td>0.057597</td>\n",
              "      <td>0.067197</td>\n",
              "      <td>0.086396</td>\n",
              "      <td>0.057597</td>\n",
              "      <td>1</td>\n",
              "      <td>41</td>\n",
              "      <td>M</td>\n",
              "      <td>1</td>\n",
              "    </tr>\n",
              "    <tr>\n",
              "      <th>1</th>\n",
              "      <td>0.067197</td>\n",
              "      <td>0.067197</td>\n",
              "      <td>0.124794</td>\n",
              "      <td>0.143993</td>\n",
              "      <td>0.105595</td>\n",
              "      <td>0.047998</td>\n",
              "      <td>0.038398</td>\n",
              "      <td>0.038398</td>\n",
              "      <td>0.047998</td>\n",
              "      <td>0.038398</td>\n",
              "      <td>0.047998</td>\n",
              "      <td>0.038398</td>\n",
              "      <td>0.057597</td>\n",
              "      <td>0.009600</td>\n",
              "      <td>0.028799</td>\n",
              "      <td>0.038398</td>\n",
              "      <td>0.134393</td>\n",
              "      <td>0.000000</td>\n",
              "      <td>0.095995</td>\n",
              "      <td>0.028799</td>\n",
              "      <td>0.220789</td>\n",
              "      <td>0.009600</td>\n",
              "      <td>0.000000</td>\n",
              "      <td>0.067197</td>\n",
              "      <td>0.000000</td>\n",
              "      <td>0.028799</td>\n",
              "      <td>0.153592</td>\n",
              "      <td>0.000000</td>\n",
              "      <td>0.105595</td>\n",
              "      <td>0.086396</td>\n",
              "      <td>0.000000</td>\n",
              "      <td>0.009600</td>\n",
              "      <td>0.105595</td>\n",
              "      <td>0.000000</td>\n",
              "      <td>0.105595</td>\n",
              "      <td>0.009600</td>\n",
              "      <td>0.316784</td>\n",
              "      <td>0.067197</td>\n",
              "      <td>0.009600</td>\n",
              "      <td>0.095995</td>\n",
              "      <td>...</td>\n",
              "      <td>0.000000</td>\n",
              "      <td>0.028799</td>\n",
              "      <td>0.019199</td>\n",
              "      <td>0.038398</td>\n",
              "      <td>0.047998</td>\n",
              "      <td>0.143993</td>\n",
              "      <td>0.172791</td>\n",
              "      <td>0.057597</td>\n",
              "      <td>0.067197</td>\n",
              "      <td>0.047998</td>\n",
              "      <td>0.057597</td>\n",
              "      <td>0.047998</td>\n",
              "      <td>0.038398</td>\n",
              "      <td>0.095995</td>\n",
              "      <td>0.095995</td>\n",
              "      <td>0.057597</td>\n",
              "      <td>0.067197</td>\n",
              "      <td>0.019199</td>\n",
              "      <td>0.028799</td>\n",
              "      <td>0.028799</td>\n",
              "      <td>0.105595</td>\n",
              "      <td>0.095995</td>\n",
              "      <td>0.220789</td>\n",
              "      <td>0.076796</td>\n",
              "      <td>0.249588</td>\n",
              "      <td>0.028799</td>\n",
              "      <td>0.028799</td>\n",
              "      <td>0.076796</td>\n",
              "      <td>0.019199</td>\n",
              "      <td>0.000000</td>\n",
              "      <td>0.038398</td>\n",
              "      <td>0.009600</td>\n",
              "      <td>0.076796</td>\n",
              "      <td>0.047998</td>\n",
              "      <td>0.038398</td>\n",
              "      <td>0.038398</td>\n",
              "      <td>1</td>\n",
              "      <td>41</td>\n",
              "      <td>M</td>\n",
              "      <td>1</td>\n",
              "    </tr>\n",
              "    <tr>\n",
              "      <th>2</th>\n",
              "      <td>0.067197</td>\n",
              "      <td>0.009600</td>\n",
              "      <td>0.038398</td>\n",
              "      <td>0.201590</td>\n",
              "      <td>0.441578</td>\n",
              "      <td>0.076796</td>\n",
              "      <td>0.009600</td>\n",
              "      <td>0.047998</td>\n",
              "      <td>0.000000</td>\n",
              "      <td>0.009600</td>\n",
              "      <td>0.000000</td>\n",
              "      <td>0.009600</td>\n",
              "      <td>0.009600</td>\n",
              "      <td>0.019199</td>\n",
              "      <td>0.000000</td>\n",
              "      <td>0.000000</td>\n",
              "      <td>0.057597</td>\n",
              "      <td>0.019199</td>\n",
              "      <td>0.028799</td>\n",
              "      <td>0.307185</td>\n",
              "      <td>0.403180</td>\n",
              "      <td>0.057597</td>\n",
              "      <td>0.019199</td>\n",
              "      <td>0.028799</td>\n",
              "      <td>0.009600</td>\n",
              "      <td>0.000000</td>\n",
              "      <td>0.009600</td>\n",
              "      <td>0.000000</td>\n",
              "      <td>0.000000</td>\n",
              "      <td>0.000000</td>\n",
              "      <td>0.000000</td>\n",
              "      <td>0.000000</td>\n",
              "      <td>0.028799</td>\n",
              "      <td>0.009600</td>\n",
              "      <td>0.086396</td>\n",
              "      <td>0.403180</td>\n",
              "      <td>0.297585</td>\n",
              "      <td>0.009600</td>\n",
              "      <td>0.009600</td>\n",
              "      <td>0.038398</td>\n",
              "      <td>...</td>\n",
              "      <td>0.000000</td>\n",
              "      <td>0.000000</td>\n",
              "      <td>0.000000</td>\n",
              "      <td>0.000000</td>\n",
              "      <td>0.000000</td>\n",
              "      <td>0.000000</td>\n",
              "      <td>0.000000</td>\n",
              "      <td>0.000000</td>\n",
              "      <td>1.075146</td>\n",
              "      <td>0.000000</td>\n",
              "      <td>0.000000</td>\n",
              "      <td>0.000000</td>\n",
              "      <td>0.000000</td>\n",
              "      <td>0.000000</td>\n",
              "      <td>0.000000</td>\n",
              "      <td>0.000000</td>\n",
              "      <td>0.000000</td>\n",
              "      <td>0.000000</td>\n",
              "      <td>0.000000</td>\n",
              "      <td>0.000000</td>\n",
              "      <td>0.000000</td>\n",
              "      <td>0.000000</td>\n",
              "      <td>0.000000</td>\n",
              "      <td>0.000000</td>\n",
              "      <td>1.151942</td>\n",
              "      <td>0.000000</td>\n",
              "      <td>0.000000</td>\n",
              "      <td>0.000000</td>\n",
              "      <td>0.000000</td>\n",
              "      <td>0.000000</td>\n",
              "      <td>0.000000</td>\n",
              "      <td>0.000000</td>\n",
              "      <td>0.000000</td>\n",
              "      <td>0.000000</td>\n",
              "      <td>0.000000</td>\n",
              "      <td>0.000000</td>\n",
              "      <td>1</td>\n",
              "      <td>41</td>\n",
              "      <td>M</td>\n",
              "      <td>1</td>\n",
              "    </tr>\n",
              "    <tr>\n",
              "      <th>3</th>\n",
              "      <td>0.172791</td>\n",
              "      <td>0.028799</td>\n",
              "      <td>0.000000</td>\n",
              "      <td>0.009600</td>\n",
              "      <td>0.134393</td>\n",
              "      <td>0.019199</td>\n",
              "      <td>0.019199</td>\n",
              "      <td>0.230388</td>\n",
              "      <td>0.047998</td>\n",
              "      <td>0.038398</td>\n",
              "      <td>0.000000</td>\n",
              "      <td>0.000000</td>\n",
              "      <td>0.057597</td>\n",
              "      <td>0.028799</td>\n",
              "      <td>0.009600</td>\n",
              "      <td>0.143993</td>\n",
              "      <td>0.086396</td>\n",
              "      <td>0.047998</td>\n",
              "      <td>0.047998</td>\n",
              "      <td>0.047998</td>\n",
              "      <td>0.067197</td>\n",
              "      <td>0.000000</td>\n",
              "      <td>0.095995</td>\n",
              "      <td>0.047998</td>\n",
              "      <td>0.067197</td>\n",
              "      <td>0.076796</td>\n",
              "      <td>0.095995</td>\n",
              "      <td>0.095995</td>\n",
              "      <td>0.038398</td>\n",
              "      <td>0.038398</td>\n",
              "      <td>0.038398</td>\n",
              "      <td>0.047998</td>\n",
              "      <td>0.057597</td>\n",
              "      <td>0.038398</td>\n",
              "      <td>0.124794</td>\n",
              "      <td>0.086396</td>\n",
              "      <td>0.028799</td>\n",
              "      <td>0.076796</td>\n",
              "      <td>0.028799</td>\n",
              "      <td>0.086396</td>\n",
              "      <td>...</td>\n",
              "      <td>0.307185</td>\n",
              "      <td>0.047998</td>\n",
              "      <td>0.019199</td>\n",
              "      <td>0.009600</td>\n",
              "      <td>0.047998</td>\n",
              "      <td>0.028799</td>\n",
              "      <td>0.009600</td>\n",
              "      <td>0.019199</td>\n",
              "      <td>0.057597</td>\n",
              "      <td>0.076796</td>\n",
              "      <td>0.047998</td>\n",
              "      <td>0.019199</td>\n",
              "      <td>0.000000</td>\n",
              "      <td>0.000000</td>\n",
              "      <td>0.009600</td>\n",
              "      <td>0.182391</td>\n",
              "      <td>0.383981</td>\n",
              "      <td>0.143993</td>\n",
              "      <td>0.028799</td>\n",
              "      <td>0.019199</td>\n",
              "      <td>0.057597</td>\n",
              "      <td>0.057597</td>\n",
              "      <td>0.009600</td>\n",
              "      <td>0.019199</td>\n",
              "      <td>0.095995</td>\n",
              "      <td>0.182391</td>\n",
              "      <td>0.047998</td>\n",
              "      <td>0.047998</td>\n",
              "      <td>0.019199</td>\n",
              "      <td>0.019199</td>\n",
              "      <td>0.057597</td>\n",
              "      <td>0.057597</td>\n",
              "      <td>0.143993</td>\n",
              "      <td>0.239988</td>\n",
              "      <td>0.076796</td>\n",
              "      <td>0.019199</td>\n",
              "      <td>1</td>\n",
              "      <td>41</td>\n",
              "      <td>M</td>\n",
              "      <td>1</td>\n",
              "    </tr>\n",
              "    <tr>\n",
              "      <th>4</th>\n",
              "      <td>0.028799</td>\n",
              "      <td>0.019199</td>\n",
              "      <td>0.057597</td>\n",
              "      <td>0.067197</td>\n",
              "      <td>0.163192</td>\n",
              "      <td>0.086396</td>\n",
              "      <td>0.038398</td>\n",
              "      <td>0.000000</td>\n",
              "      <td>0.009600</td>\n",
              "      <td>0.038398</td>\n",
              "      <td>0.047998</td>\n",
              "      <td>0.095995</td>\n",
              "      <td>0.076796</td>\n",
              "      <td>0.047998</td>\n",
              "      <td>0.115194</td>\n",
              "      <td>0.047998</td>\n",
              "      <td>0.124794</td>\n",
              "      <td>0.019199</td>\n",
              "      <td>0.000000</td>\n",
              "      <td>0.019199</td>\n",
              "      <td>0.009600</td>\n",
              "      <td>0.009600</td>\n",
              "      <td>0.019199</td>\n",
              "      <td>0.009600</td>\n",
              "      <td>0.067197</td>\n",
              "      <td>0.086396</td>\n",
              "      <td>0.105595</td>\n",
              "      <td>0.095995</td>\n",
              "      <td>0.095995</td>\n",
              "      <td>0.095995</td>\n",
              "      <td>0.057597</td>\n",
              "      <td>0.124794</td>\n",
              "      <td>0.019199</td>\n",
              "      <td>0.019199</td>\n",
              "      <td>0.000000</td>\n",
              "      <td>0.009600</td>\n",
              "      <td>0.595170</td>\n",
              "      <td>0.000000</td>\n",
              "      <td>0.019199</td>\n",
              "      <td>0.019199</td>\n",
              "      <td>...</td>\n",
              "      <td>0.076796</td>\n",
              "      <td>0.057597</td>\n",
              "      <td>0.038398</td>\n",
              "      <td>0.047998</td>\n",
              "      <td>0.047998</td>\n",
              "      <td>0.057597</td>\n",
              "      <td>0.086396</td>\n",
              "      <td>0.076796</td>\n",
              "      <td>0.038398</td>\n",
              "      <td>0.067197</td>\n",
              "      <td>0.019199</td>\n",
              "      <td>0.057597</td>\n",
              "      <td>0.028799</td>\n",
              "      <td>0.019199</td>\n",
              "      <td>0.172791</td>\n",
              "      <td>0.124794</td>\n",
              "      <td>0.095995</td>\n",
              "      <td>0.076796</td>\n",
              "      <td>0.076796</td>\n",
              "      <td>0.028799</td>\n",
              "      <td>0.067197</td>\n",
              "      <td>0.057597</td>\n",
              "      <td>0.057597</td>\n",
              "      <td>0.057597</td>\n",
              "      <td>0.086396</td>\n",
              "      <td>0.047998</td>\n",
              "      <td>0.038398</td>\n",
              "      <td>0.095995</td>\n",
              "      <td>0.115194</td>\n",
              "      <td>0.105595</td>\n",
              "      <td>0.067197</td>\n",
              "      <td>0.086396</td>\n",
              "      <td>0.047998</td>\n",
              "      <td>0.095995</td>\n",
              "      <td>0.086396</td>\n",
              "      <td>0.038398</td>\n",
              "      <td>2</td>\n",
              "      <td>50</td>\n",
              "      <td>M</td>\n",
              "      <td>1</td>\n",
              "    </tr>\n",
              "  </tbody>\n",
              "</table>\n",
              "<p>5 rows × 1028 columns</p>\n",
              "</div>"
            ],
            "text/plain": [
              "          0         1         2         3  ...  patient_id  age  gender  label\n",
              "0  0.047998  0.057597  0.076796  0.076796  ...           1   41       M      1\n",
              "1  0.067197  0.067197  0.124794  0.143993  ...           1   41       M      1\n",
              "2  0.067197  0.009600  0.038398  0.201590  ...           1   41       M      1\n",
              "3  0.172791  0.028799  0.000000  0.009600  ...           1   41       M      1\n",
              "4  0.028799  0.019199  0.057597  0.067197  ...           2   50       M      1\n",
              "\n",
              "[5 rows x 1028 columns]"
            ]
          },
          "metadata": {
            "tags": []
          },
          "execution_count": 8
        }
      ]
    },
    {
      "cell_type": "code",
      "metadata": {
        "id": "k4_fFBnCjXRI",
        "colab_type": "code",
        "colab": {}
      },
      "source": [
        ""
      ],
      "execution_count": 0,
      "outputs": []
    },
    {
      "cell_type": "code",
      "metadata": {
        "id": "ZYK8uBm9RxYG",
        "colab_type": "code",
        "colab": {}
      },
      "source": [
        "# create training and validation sets\n",
        "\n",
        "# total column number\n",
        "colSize = mydata.shape[1]\n",
        "imageLastColumnIndex = colSize-5\n",
        "labelColumnIndex = colSize-1\n",
        "\n",
        "train, test = train_test_split(mydata, test_size=0.20, random_state=42)\n",
        "\n",
        "X_train, y_train = train.iloc[:, 0:imageLastColumnIndex], train.iloc[:, labelColumnIndex]\n",
        "X_test, y_test = test.iloc[:, 0:imageLastColumnIndex], test.iloc[:, labelColumnIndex]\n"
      ],
      "execution_count": 0,
      "outputs": []
    },
    {
      "cell_type": "code",
      "metadata": {
        "id": "7hXcBXxv1K-B",
        "colab_type": "code",
        "colab": {}
      },
      "source": [
        "# preprocessing \n",
        "scaler = StandardScaler().fit(X_train)\n",
        "X_std = scaler.fit_transform(X_train)\n",
        "\n",
        "# constants\n",
        "n_folds = 10\n",
        "\n",
        "# tuning parameters\n",
        "tuned_parameters = [{'C': np.logspace(-4, 2, 100)}] "
      ],
      "execution_count": 0,
      "outputs": []
    },
    {
      "cell_type": "code",
      "metadata": {
        "id": "LuHu7JzlzLCz",
        "colab_type": "code",
        "colab": {}
      },
      "source": [
        "# model: SVM\n",
        "svc = SVC(gamma = 'scale', kernel = \"rbf\")\n",
        "svm = GridSearchCV(svc, tuned_parameters, cv=n_folds, scoring='accuracy')\n",
        "svm.fit = svm.fit(X_std, y_train)\n",
        "\n",
        "# plot the CV results to make sure we found a good value for C"
      ],
      "execution_count": 0,
      "outputs": []
    },
    {
      "cell_type": "code",
      "metadata": {
        "id": "kpbshnSU0Zf8",
        "colab_type": "code",
        "outputId": "382eff8c-c726-46e1-8832-b82b69a4a5ee",
        "colab": {
          "base_uri": "https://localhost:8080/",
          "height": 404
        }
      },
      "source": [
        "# model: SVM - plot CV scores to determine C\n",
        "# Cross-Validation Results\n",
        "a = svm.cv_results_['mean_test_score'].argmax()\n",
        "\n",
        "plt.figure().set_size_inches(8, 6)\n",
        "plt.plot(np.logspace(-4, 2, 100),1-svm.cv_results_['mean_test_score'][range(0,100)]);\n",
        "plt.axvline(np.logspace(-4, 2, 100)[a], linestyle='--', color='red', label='Best log(C)')\n",
        "plt.ylabel('Misclassification error')\n",
        "plt.xlabel('ln(C)')\n",
        "plt.title('CV error of SVC')\n",
        "plt.legend(loc='lower right')\n",
        "plt.show()"
      ],
      "execution_count": 0,
      "outputs": [
        {
          "output_type": "display_data",
          "data": {
            "image/png": "[encoded data removed]",
            "text/plain": [
              "<Figure size 576x432 with 1 Axes>"
            ]
          },
          "metadata": {
            "tags": [],
            "needs_background": "light"
          }
        }
      ]
    },
    {
      "cell_type": "code",
      "metadata": {
        "id": "sNkkfEhezVkO",
        "colab_type": "code",
        "colab": {}
      },
      "source": [
        "# model: L1-logistic regression\n",
        "logit = LogisticRegression(penalty='l1', solver='liblinear', intercept_scaling=100000, random_state=0)\n",
        "logistic = GridSearchCV(logit, tuned_parameters, cv=n_folds, scoring='accuracy')\n",
        "logistic.fit = logistic.fit(X_std, y_train)\n",
        "\n",
        "# plot the CV results to make sure we found a good value for C"
      ],
      "execution_count": 0,
      "outputs": []
    },
    {
      "cell_type": "code",
      "metadata": {
        "id": "vrKD4s4V6OjC",
        "colab_type": "code",
        "outputId": "5c6120cb-f33d-4753-9b9f-05ebfc9f7871",
        "colab": {
          "base_uri": "https://localhost:8080/",
          "height": 404
        }
      },
      "source": [
        "# model: L1-logistic regression\n",
        "b = logistic.cv_results_['mean_test_score'].argmax()\n",
        "\n",
        "plt.figure().set_size_inches(8, 6)\n",
        "plt.plot(np.logspace(-4, 2, 100),1-logistic.cv_results_['mean_test_score'][range(0,100)]);\n",
        "plt.axvline(np.logspace(-4, 2, 100)[b], linestyle='--', color='red', label='Best log(C)')\n",
        "plt.ylabel('Misclassification error')\n",
        "plt.xlabel('ln(C)')\n",
        "plt.title('CV error of logistic regression')\n",
        "plt.legend(loc='lower right')\n",
        "plt.show()"
      ],
      "execution_count": 0,
      "outputs": [
        {
          "output_type": "display_data",
          "data": {
            "image/png": "[encoded data removed]",
            "text/plain": [
              "<Figure size 576x432 with 1 Axes>"
            ]
          },
          "metadata": {
            "tags": [],
            "needs_background": "light"
          }
        }
      ]
    },
    {
      "cell_type": "code",
      "metadata": {
        "id": "RJQTX5VYzYVD",
        "colab_type": "code",
        "outputId": "1fe38d00-7289-4c37-f4db-2bc1411364a0",
        "colab": {
          "base_uri": "https://localhost:8080/",
          "height": 231
        }
      },
      "source": [
        "# model: Random forest (# *** Need to tune the # of trees)\n",
        "# rf = RandomForestClassifier(n_estimators=500, max_depth=10)\n",
        "# rf.fit = rf.fit(X_std, y_train)\n",
        "\n",
        "Bs = [1,2,5,10,20,50,100,200,500,1000] # number of trees\n",
        "Rsqs = []\n",
        "for B in Bs:\n",
        "    regressor_a = RandomForestClassifier(n_estimators=B, max_depth=10)\n",
        "    regressor_a.fit(X_std,y_train)\n",
        "    Rsqs.append(regressor_a.score(X_std, y_train))\n",
        "\n",
        "plt.plot(list(map(str,Bs)),Rsqs)\n",
        "plt.show()\n",
        "\n",
        "Best_B = Bs[np.argmax(Rsqs)]\n",
        "Best_B\n",
        "\n",
        "rf = RandomForestClassifier(n_estimators=Best_B, max_depth=10)\n",
        "rf.fit = rf.fit(X_std, y_train)"
      ],
      "execution_count": 0,
      "outputs": [
        {
          "output_type": "error",
          "ename": "NameError",
          "evalue": "ignored",
          "traceback": [
            "\u001b[0;31m---------------------------------------------------------------------------\u001b[0m",
            "\u001b[0;31mNameError\u001b[0m                                 Traceback (most recent call last)",
            "\u001b[0;32m<ipython-input-17-c565b389533e>\u001b[0m in \u001b[0;36m<module>\u001b[0;34m()\u001b[0m\n\u001b[1;32m      4\u001b[0m \u001b[0;32mfor\u001b[0m \u001b[0mB\u001b[0m \u001b[0;32min\u001b[0m \u001b[0mBs\u001b[0m\u001b[0;34m:\u001b[0m\u001b[0;34m\u001b[0m\u001b[0;34m\u001b[0m\u001b[0m\n\u001b[1;32m      5\u001b[0m     \u001b[0mregressor_a\u001b[0m \u001b[0;34m=\u001b[0m \u001b[0mRandomForestClassifier\u001b[0m\u001b[0;34m(\u001b[0m\u001b[0mn_estimators\u001b[0m\u001b[0;34m=\u001b[0m\u001b[0mB\u001b[0m\u001b[0;34m,\u001b[0m\u001b[0mmax_depth\u001b[0m\u001b[0;34m=\u001b[0m\u001b[0;36m10\u001b[0m\u001b[0;34m)\u001b[0m\u001b[0;34m\u001b[0m\u001b[0;34m\u001b[0m\u001b[0m\n\u001b[0;32m----> 6\u001b[0;31m     \u001b[0mregressor_a\u001b[0m\u001b[0;34m.\u001b[0m\u001b[0mfit\u001b[0m\u001b[0;34m(\u001b[0m\u001b[0mX_2\u001b[0m\u001b[0;34m,\u001b[0m\u001b[0mY_2\u001b[0m\u001b[0;34m)\u001b[0m\u001b[0;34m\u001b[0m\u001b[0;34m\u001b[0m\u001b[0m\n\u001b[0m\u001b[1;32m      7\u001b[0m     \u001b[0mRsqs\u001b[0m\u001b[0;34m.\u001b[0m\u001b[0mappend\u001b[0m\u001b[0;34m(\u001b[0m\u001b[0mregressor_a\u001b[0m\u001b[0;34m.\u001b[0m\u001b[0mscore\u001b[0m\u001b[0;34m(\u001b[0m\u001b[0mX_2\u001b[0m\u001b[0;34m,\u001b[0m\u001b[0mY_2\u001b[0m\u001b[0;34m)\u001b[0m\u001b[0;34m)\u001b[0m\u001b[0;34m\u001b[0m\u001b[0;34m\u001b[0m\u001b[0m\n\u001b[1;32m      8\u001b[0m \u001b[0;34m\u001b[0m\u001b[0m\n",
            "\u001b[0;31mNameError\u001b[0m: name 'X_2' is not defined"
          ]
        }
      ]
    },
    {
      "cell_type": "code",
      "metadata": {
        "id": "6VGZYndAzn8O",
        "colab_type": "code",
        "colab": {}
      },
      "source": [
        "# model: LDA\n",
        "LDA = LinearDiscriminantAnalysis()\n",
        "LDA.fit=LDA.fit(X_std, y_train)"
      ],
      "execution_count": 0,
      "outputs": []
    },
    {
      "cell_type": "code",
      "metadata": {
        "id": "5u5Z1PM2zqBz",
        "colab_type": "code",
        "outputId": "0e40e9d8-1d87-41b3-b4f2-1e89e12fe029",
        "colab": {
          "base_uri": "https://localhost:8080/",
          "height": 51
        }
      },
      "source": [
        "# model: QDA\n",
        "QDA = QuadraticDiscriminantAnalysis()\n",
        "QDA.fit = QDA.fit(X_std, y_train)"
      ],
      "execution_count": 0,
      "outputs": [
        {
          "output_type": "stream",
          "text": [
            "/usr/local/lib/python3.6/dist-packages/sklearn/discriminant_analysis.py:691: UserWarning: Variables are collinear\n",
            "  warnings.warn(\"Variables are collinear\")\n"
          ],
          "name": "stderr"
        }
      ]
    },
    {
      "cell_type": "code",
      "metadata": {
        "id": "aANcuufUzawz",
        "colab_type": "code",
        "colab": {}
      },
      "source": [
        "# model: XGBoost (*** Tuning)\n",
        "gb = GradientBoostingClassifier(random_state=0) \n",
        "gb.fit = gb.fit(X_std,y_train)"
      ],
      "execution_count": 0,
      "outputs": []
    },
    {
      "cell_type": "code",
      "metadata": {
        "id": "UZnnIVJASgw-",
        "colab_type": "code",
        "outputId": "6dccb267-f5fc-4448-c571-a211c4a33391",
        "colab": {
          "base_uri": "https://localhost:8080/",
          "height": 342
        }
      },
      "source": [
        "# Generate PCAR\n",
        "from sklearn.decomposition import PCA\n",
        "full_pca = PCA(random_state=0).fit(X_train)\n",
        "full_pca.n_components_\n",
        "\n",
        "cum_exp_var = np.cumsum(full_pca.explained_variance_ratio_)\n",
        "\n",
        "plt.plot(np.arange(len(cum_exp_var))+1, cum_exp_var)\n",
        "plt.xlabel('Number of Components')\n",
        "plt.ylabel('Proportion of Variance Explained');\n",
        "\n",
        "cutoffs = np.flip(np.arange(0.5, 1, 0.05))\n",
        "cutoffs_df = pd.DataFrame([[min(np.arange(len(cum_exp_var))[cum_exp_var > c]) + 1 for c in cutoffs]], \n",
        "                          columns=cutoffs, index=['Number of PCs Needed'])\n",
        "cutoffs_df.columns.name = 'Variance Explained'\n",
        "cutoffs_df\n"
      ],
      "execution_count": 0,
      "outputs": [
        {
          "output_type": "execute_result",
          "data": {
            "text/html": [
              "<div>\n",
              "<style scoped>\n",
              "    .dataframe tbody tr th:only-of-type {\n",
              "        vertical-align: middle;\n",
              "    }\n",
              "\n",
              "    .dataframe tbody tr th {\n",
              "        vertical-align: top;\n",
              "    }\n",
              "\n",
              "    .dataframe thead th {\n",
              "        text-align: right;\n",
              "    }\n",
              "</style>\n",
              "<table border=\"1\" class=\"dataframe\">\n",
              "  <thead>\n",
              "    <tr style=\"text-align: right;\">\n",
              "      <th>Variance Explained</th>\n",
              "      <th>0.95</th>\n",
              "      <th>0.90</th>\n",
              "      <th>0.85</th>\n",
              "      <th>0.80</th>\n",
              "      <th>0.75</th>\n",
              "      <th>0.70</th>\n",
              "      <th>0.65</th>\n",
              "      <th>0.60</th>\n",
              "      <th>0.55</th>\n",
              "      <th>0.50</th>\n",
              "    </tr>\n",
              "  </thead>\n",
              "  <tbody>\n",
              "    <tr>\n",
              "      <th>Number of PCs Needed</th>\n",
              "      <td>199</td>\n",
              "      <td>165</td>\n",
              "      <td>136</td>\n",
              "      <td>110</td>\n",
              "      <td>88</td>\n",
              "      <td>69</td>\n",
              "      <td>52</td>\n",
              "      <td>38</td>\n",
              "      <td>26</td>\n",
              "      <td>17</td>\n",
              "    </tr>\n",
              "  </tbody>\n",
              "</table>\n",
              "</div>"
            ],
            "text/plain": [
              "Variance Explained    0.95  0.90  0.85  0.80  ...  0.65  0.60  0.55  0.50\n",
              "Number of PCs Needed   199   165   136   110  ...    52    38    26    17\n",
              "\n",
              "[1 rows x 10 columns]"
            ]
          },
          "metadata": {
            "tags": []
          },
          "execution_count": 127
        },
        {
          "output_type": "display_data",
          "data": {
            "image/png": "[encoded data removed]",
            "text/plain": [
              "<Figure size 432x288 with 1 Axes>"
            ]
          },
          "metadata": {
            "tags": [],
            "needs_background": "light"
          }
        }
      ]
    },
    {
      "cell_type": "code",
      "metadata": {
        "id": "6f69KL1yUa0T",
        "colab_type": "code",
        "colab": {}
      },
      "source": [
        "# model: KMeans\n",
        "final_pca = PCA(165, random_state=0).fit(X_train)\n",
        "pixels_transform = final_pca.transform(X_train)\n",
        "\n",
        "kmeans_kpp = KMeans(n_clusters=2, init='k-means++', n_init=1, random_state=0).fit(pixels_transform)\n",
        "kmeans_kpp_labels = kmeans_kpp.labels_"
      ],
      "execution_count": 0,
      "outputs": []
    },
    {
      "cell_type": "code",
      "metadata": {
        "id": "pJuDUY0ZUXGa",
        "colab_type": "code",
        "colab": {}
      },
      "source": [
        "# model: EM\n",
        "em_kmeans = GaussianMixture(n_components=2, init_params='kmeans', n_init=1, random_state=0).fit(pixels_transform)\n",
        "em_kmeans_labels = em_kmeans.predict(pixels_transform)"
      ],
      "execution_count": 0,
      "outputs": []
    },
    {
      "cell_type": "code",
      "metadata": {
        "id": "J5004wBvzfHQ",
        "colab_type": "code",
        "colab": {}
      },
      "source": [
        "# model evaluation and comparison "
      ],
      "execution_count": 0,
      "outputs": []
    },
    {
      "cell_type": "code",
      "metadata": {
        "id": "D95czyXcbGnY",
        "colab_type": "code",
        "colab": {}
      },
      "source": [
        "all_models = [svm,logit,rf,LDA,QDA,gb,kmeans_kpp,em_kmeans]\n",
        "mod_names = [\"SVM\",\"Logistic\",\"Random Forest\",\"LDA\", \"QDA\",\"XGBoost\",\"KMeans\",\"Gaussian Mixture\"]"
      ],
      "execution_count": 0,
      "outputs": []
    },
    {
      "cell_type": "code",
      "metadata": {
        "id": "tMaHxZzmbaPX",
        "colab_type": "code",
        "colab": {}
      },
      "source": [
        "Y_train_pred_svm = svm.fit.predict(X_train)\n",
        "Y_train_pred_logistic = logistic.fit.predict(X_train)\n",
        "Y_train_pred_rf = rf.fit.predict(X_train)\n",
        "Y_train_pred_lda = LDA.fit.predict(X_train)\n",
        "Y_train_pred_qda = QDA.fit.predict(X_train)\n",
        "Y_train_pred_xgb = gb.fit.predict(X_train)\n",
        "\n",
        "Y_train_pred_kmean = kmeans_kpp.labels_\n",
        "Y_train_pred_em = em_kmeans.predict(pixels_transform)"
      ],
      "execution_count": 0,
      "outputs": []
    },
    {
      "cell_type": "code",
      "metadata": {
        "id": "MAk5JtTZbwD9",
        "colab_type": "code",
        "outputId": "2519ecd7-254f-4cfc-e2c1-aef04aee5379",
        "colab": {
          "base_uri": "https://localhost:8080/",
          "height": 334
        }
      },
      "source": [
        "aucs_train = []\n",
        "fig = plt.figure(figsize=(5,5))\n",
        "ax = fig.add_subplot(1, 1, 1)\n",
        "for mod in zip(all_models, mod_names): \n",
        "    roc_output = metrics.plot_roc_curve(mod[0], X_train, y_train, \n",
        "                                        ax=ax, name=mod[1])\n",
        "    aucs_train.append(roc_output.roc_auc)\n",
        "\n",
        "ax.plot([0, 1], [0, 1], 'k--')\n",
        "plt.show()"
      ],
      "execution_count": 0,
      "outputs": [
        {
          "output_type": "display_data",
          "data": {
            "image/png": "[encoded data removed]",
            "text/plain": [
              "<Figure size 360x360 with 1 Axes>"
            ]
          },
          "metadata": {
            "tags": [],
            "needs_background": "light"
          }
        }
      ]
    },
    {
      "cell_type": "code",
      "metadata": {
        "id": "wiUA7cvubxfF",
        "colab_type": "code",
        "colab": {}
      },
      "source": [
        "Y_test_pred_svm = svm.fit.predict(X_test)\n",
        "Y_test_pred_logistic = logistic.fit.predict(X_test)\n",
        "Y_test_pred_rf = rf.fit.predict(X_test)\n",
        "Y_test_pred_lda = LDA.fit.predict(X_test)\n",
        "Y_test_pred_qda = QDA.fit.predict(X_test)\n",
        "Y_test_pred_xgb = gb.fit.predict(X_test)"
      ],
      "execution_count": 0,
      "outputs": []
    },
    {
      "cell_type": "code",
      "metadata": {
        "id": "KYLQo2lob8hM",
        "colab_type": "code",
        "outputId": "63d7f0e2-e130-4c60-fe1e-0ab245dab0b6",
        "colab": {
          "base_uri": "https://localhost:8080/",
          "height": 334
        }
      },
      "source": [
        "aucs_test = []\n",
        "fig = plt.figure(figsize=(5,5))\n",
        "ax = fig.add_subplot(1, 1, 1)\n",
        "for mod in zip(all_models, mod_names): \n",
        "    roc_output = metrics.plot_roc_curve(mod[0], X_test, y_test, \n",
        "                                        ax=ax, name=mod[1])\n",
        "    aucs_test.append(roc_output.roc_auc)\n",
        "\n",
        "ax.plot([0, 1], [0, 1], 'k--')\n",
        "plt.show()"
      ],
      "execution_count": 0,
      "outputs": [
        {
          "output_type": "display_data",
          "data": {
            "image/png": "[encoded data removed]",
            "text/plain": [
              "<Figure size 360x360 with 1 Axes>"
            ]
          },
          "metadata": {
            "tags": [],
            "needs_background": "light"
          }
        }
      ]
    },
    {
      "cell_type": "code",
      "metadata": {
        "id": "wiC4pBbpb_IV",
        "colab_type": "code",
        "colab": {}
      },
      "source": [
        "pd.DataFrame(np.vstack([aucs_train, aucs_test]), \n",
        "             index=[\"Training AUC\", \"Test AUC\"], \n",
        "             columns=mod_names)"
      ],
      "execution_count": 0,
      "outputs": []
    }
  ]
}