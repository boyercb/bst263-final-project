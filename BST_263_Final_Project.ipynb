{
  "nbformat": 4,
  "nbformat_minor": 0,
  "metadata": {
    "colab": {
      "name": "BST 263 Final Project.ipynb",
      "provenance": [],
      "collapsed_sections": [],
      "include_colab_link": true
    },
    "kernelspec": {
      "name": "python3",
      "display_name": "Python 3"
    }
  },
  "cells": [
    {
      "cell_type": "markdown",
      "metadata": {
        "id": "view-in-github",
        "colab_type": "text"
      },
      "source": [
        "<a href=\"https://colab.research.google.com/github/boyercb/bst263-final-project/blob/master/BST_263_Final_Project.ipynb\" target=\"_parent\"><img src=\"https://colab.research.google.com/assets/colab-badge.svg\" alt=\"Open In Colab\"/></a>"
      ]
    },
    {
      "cell_type": "code",
      "metadata": {
        "id": "DcPwVgK3_Dwo",
        "colab_type": "code",
        "colab": {}
      },
      "source": [
        "import pandas as pd\n",
        "import numpy as np\n",
        "import matplotlib.pyplot as plt\n",
        "\n",
        "from joblib import dump, load\n",
        "\n",
        "from sklearn.preprocessing import StandardScaler\n",
        "from sklearn.model_selection import train_test_split\n",
        "\n",
        "from sklearn.svm import SVC, l1_min_c\n",
        "from sklearn.linear_model import LogisticRegression\n",
        "from sklearn.discriminant_analysis import LinearDiscriminantAnalysis\n",
        "from sklearn.discriminant_analysis import QuadraticDiscriminantAnalysis\n",
        "from sklearn.naive_bayes import GaussianNB\n",
        "from sklearn.ensemble import GradientBoostingRegressor\n",
        "from sklearn.ensemble import GradientBoostingClassifier\n",
        "from sklearn.ensemble import RandomForestRegressor\n",
        "from sklearn.ensemble import RandomForestClassifier\n",
        "from sklearn.ensemble import VotingClassifier\n",
        "from sklearn.model_selection import GridSearchCV, RandomizedSearchCV\n",
        "from sklearn import metrics\n",
        "\n",
        "from sklearn.cluster import KMeans\n",
        "from sklearn.mixture import GaussianMixture"
      ],
      "execution_count": 0,
      "outputs": []
    },
    {
      "cell_type": "code",
      "metadata": {
        "id": "KcNh_xeeRde6",
        "colab_type": "code",
        "colab": {}
      },
      "source": [
        "# currently the coding is \n",
        "# run cleaning code\n",
        "# url = 'https://raw.githubusercontent.com/boyercb/bst263-final-project/master/mydata_unique.csv'\n",
        " url = 'https://raw.githubusercontent.com/boyercb/bst263-final-project/master/mydata_all.csv'\n",
        "\n",
        "# Please use my url here since Chloe and I might keep updating and adding new dataset to here. \n",
        "# url= 'https://raw.githubusercontent.com/lcareflektor/bst263finalProject/master/mydata_all.csv'\n",
        "mydata = pd.read_csv(url)"
      ],
      "execution_count": 0,
      "outputs": []
    },
    {
      "cell_type": "code",
      "metadata": {
        "id": "wSdLSshlaXjF",
        "colab_type": "code",
        "outputId": "50399daa-b149-401c-851a-ca7287607d0c",
        "colab": {
          "base_uri": "https://localhost:8080/",
          "height": 233
        }
      },
      "source": [
        "mydata.head(5)"
      ],
      "execution_count": 3,
      "outputs": [
        {
          "output_type": "execute_result",
          "data": {
            "text/plain": [
              "          0         1         2         3         4         5         6  \\\n",
              "0  0.179077  0.031064  0.279580  0.080402  0.160804  0.023755  0.124258   \n",
              "1  0.228415  0.023755  0.314299  0.042028  0.179077  0.054820  0.074920   \n",
              "2  0.226587  0.005482  0.217451  0.005482  0.056647  0.009137  0.160804   \n",
              "3  0.113294  0.040201  0.294198  0.031064  0.087711  0.093193  0.166286   \n",
              "4  0.043856  0.047510  0.502513  0.087711  0.080402  0.054820  0.115121   \n",
              "\n",
              "          7         8         9  ...      1290      1291      1292      1293  \\\n",
              "0  0.060302  0.025582  0.184559  ...  0.040201  0.233897  0.029237  0.087711   \n",
              "1  0.014619  0.032892  0.193696  ...  0.005482  0.215624  0.095021  0.193696   \n",
              "2  0.038374  0.244861  0.095021  ...  0.100503  0.206487  0.020101  0.096848   \n",
              "3  0.080402  0.058474  0.166286  ...  0.040201  0.098675  0.043856  0.155322   \n",
              "4  0.018273  0.014619  0.003655  ...  0.031064  0.137049  0.065783  0.080402   \n",
              "\n",
              "       1294      1295  patient_id  age  gender  label  \n",
              "0  0.058474  0.009137           1   41       M      1  \n",
              "1  0.016446  0.056647           1   41       M      1  \n",
              "2  0.084057  0.001827           1   41       M      1  \n",
              "3  0.023755  0.000000           1   41       M      1  \n",
              "4  0.051165  0.009137           2   50       M      1  \n",
              "\n",
              "[5 rows x 1300 columns]"
            ],
            "text/html": [
              "<div>\n",
              "<style scoped>\n",
              "    .dataframe tbody tr th:only-of-type {\n",
              "        vertical-align: middle;\n",
              "    }\n",
              "\n",
              "    .dataframe tbody tr th {\n",
              "        vertical-align: top;\n",
              "    }\n",
              "\n",
              "    .dataframe thead th {\n",
              "        text-align: right;\n",
              "    }\n",
              "</style>\n",
              "<table border=\"1\" class=\"dataframe\">\n",
              "  <thead>\n",
              "    <tr style=\"text-align: right;\">\n",
              "      <th></th>\n",
              "      <th>0</th>\n",
              "      <th>1</th>\n",
              "      <th>2</th>\n",
              "      <th>3</th>\n",
              "      <th>4</th>\n",
              "      <th>5</th>\n",
              "      <th>6</th>\n",
              "      <th>7</th>\n",
              "      <th>8</th>\n",
              "      <th>9</th>\n",
              "      <th>...</th>\n",
              "      <th>1290</th>\n",
              "      <th>1291</th>\n",
              "      <th>1292</th>\n",
              "      <th>1293</th>\n",
              "      <th>1294</th>\n",
              "      <th>1295</th>\n",
              "      <th>patient_id</th>\n",
              "      <th>age</th>\n",
              "      <th>gender</th>\n",
              "      <th>label</th>\n",
              "    </tr>\n",
              "  </thead>\n",
              "  <tbody>\n",
              "    <tr>\n",
              "      <th>0</th>\n",
              "      <td>0.179077</td>\n",
              "      <td>0.031064</td>\n",
              "      <td>0.279580</td>\n",
              "      <td>0.080402</td>\n",
              "      <td>0.160804</td>\n",
              "      <td>0.023755</td>\n",
              "      <td>0.124258</td>\n",
              "      <td>0.060302</td>\n",
              "      <td>0.025582</td>\n",
              "      <td>0.184559</td>\n",
              "      <td>...</td>\n",
              "      <td>0.040201</td>\n",
              "      <td>0.233897</td>\n",
              "      <td>0.029237</td>\n",
              "      <td>0.087711</td>\n",
              "      <td>0.058474</td>\n",
              "      <td>0.009137</td>\n",
              "      <td>1</td>\n",
              "      <td>41</td>\n",
              "      <td>M</td>\n",
              "      <td>1</td>\n",
              "    </tr>\n",
              "    <tr>\n",
              "      <th>1</th>\n",
              "      <td>0.228415</td>\n",
              "      <td>0.023755</td>\n",
              "      <td>0.314299</td>\n",
              "      <td>0.042028</td>\n",
              "      <td>0.179077</td>\n",
              "      <td>0.054820</td>\n",
              "      <td>0.074920</td>\n",
              "      <td>0.014619</td>\n",
              "      <td>0.032892</td>\n",
              "      <td>0.193696</td>\n",
              "      <td>...</td>\n",
              "      <td>0.005482</td>\n",
              "      <td>0.215624</td>\n",
              "      <td>0.095021</td>\n",
              "      <td>0.193696</td>\n",
              "      <td>0.016446</td>\n",
              "      <td>0.056647</td>\n",
              "      <td>1</td>\n",
              "      <td>41</td>\n",
              "      <td>M</td>\n",
              "      <td>1</td>\n",
              "    </tr>\n",
              "    <tr>\n",
              "      <th>2</th>\n",
              "      <td>0.226587</td>\n",
              "      <td>0.005482</td>\n",
              "      <td>0.217451</td>\n",
              "      <td>0.005482</td>\n",
              "      <td>0.056647</td>\n",
              "      <td>0.009137</td>\n",
              "      <td>0.160804</td>\n",
              "      <td>0.038374</td>\n",
              "      <td>0.244861</td>\n",
              "      <td>0.095021</td>\n",
              "      <td>...</td>\n",
              "      <td>0.100503</td>\n",
              "      <td>0.206487</td>\n",
              "      <td>0.020101</td>\n",
              "      <td>0.096848</td>\n",
              "      <td>0.084057</td>\n",
              "      <td>0.001827</td>\n",
              "      <td>1</td>\n",
              "      <td>41</td>\n",
              "      <td>M</td>\n",
              "      <td>1</td>\n",
              "    </tr>\n",
              "    <tr>\n",
              "      <th>3</th>\n",
              "      <td>0.113294</td>\n",
              "      <td>0.040201</td>\n",
              "      <td>0.294198</td>\n",
              "      <td>0.031064</td>\n",
              "      <td>0.087711</td>\n",
              "      <td>0.093193</td>\n",
              "      <td>0.166286</td>\n",
              "      <td>0.080402</td>\n",
              "      <td>0.058474</td>\n",
              "      <td>0.166286</td>\n",
              "      <td>...</td>\n",
              "      <td>0.040201</td>\n",
              "      <td>0.098675</td>\n",
              "      <td>0.043856</td>\n",
              "      <td>0.155322</td>\n",
              "      <td>0.023755</td>\n",
              "      <td>0.000000</td>\n",
              "      <td>1</td>\n",
              "      <td>41</td>\n",
              "      <td>M</td>\n",
              "      <td>1</td>\n",
              "    </tr>\n",
              "    <tr>\n",
              "      <th>4</th>\n",
              "      <td>0.043856</td>\n",
              "      <td>0.047510</td>\n",
              "      <td>0.502513</td>\n",
              "      <td>0.087711</td>\n",
              "      <td>0.080402</td>\n",
              "      <td>0.054820</td>\n",
              "      <td>0.115121</td>\n",
              "      <td>0.018273</td>\n",
              "      <td>0.014619</td>\n",
              "      <td>0.003655</td>\n",
              "      <td>...</td>\n",
              "      <td>0.031064</td>\n",
              "      <td>0.137049</td>\n",
              "      <td>0.065783</td>\n",
              "      <td>0.080402</td>\n",
              "      <td>0.051165</td>\n",
              "      <td>0.009137</td>\n",
              "      <td>2</td>\n",
              "      <td>50</td>\n",
              "      <td>M</td>\n",
              "      <td>1</td>\n",
              "    </tr>\n",
              "  </tbody>\n",
              "</table>\n",
              "<p>5 rows × 1300 columns</p>\n",
              "</div>"
            ]
          },
          "metadata": {
            "tags": []
          },
          "execution_count": 3
        }
      ]
    },
    {
      "cell_type": "markdown",
      "metadata": {
        "id": "hxu4Y5vBmZkG",
        "colab_type": "text"
      },
      "source": [
        "**Image pre-processing**"
      ]
    },
    {
      "cell_type": "code",
      "metadata": {
        "id": "ZYK8uBm9RxYG",
        "colab_type": "code",
        "colab": {}
      },
      "source": [
        "# create training and validation sets\n",
        "\n",
        "# total column number\n",
        "cols = mydata.shape[1]\n",
        "col_image_end = cols-5\n",
        "col_label = cols-1\n",
        "\n",
        "train, test = train_test_split(mydata, test_size=0.20, random_state=42)\n",
        "\n",
        "X_train, y_train = train.iloc[:, 0:col_image_end], train.iloc[:, col_label]\n",
        "X_test, y_test = test.iloc[:, 0:col_image_end], test.iloc[:, col_label]\n"
      ],
      "execution_count": 0,
      "outputs": []
    },
    {
      "cell_type": "code",
      "metadata": {
        "id": "7hXcBXxv1K-B",
        "colab_type": "code",
        "colab": {}
      },
      "source": [
        "# preprocessing \n",
        "scaler = StandardScaler().fit(X_train)\n",
        "X_std = scaler.fit_transform(X_train)\n",
        "X_test_std = scaler.fit_transform(X_test)\n",
        "\n",
        "# constants\n",
        "n_folds = 10\n",
        "seed = 3370\n",
        "models = [svm_rbf, logistic, rf, LDA, QDA, gb, bayes, ensemble]\n",
        "model_names = [\"SVM RBF\", \"Logistic\", \"Random Forest\", \"LDA\", \"QDA\", \"XGBoost\", \"Naive Bayes\", \"Ensemble\"]\n",
        "filenames = [\"svm_rbf\", \"logistic\", \"rf\", \"LDA\", \"QDA\", \"gb\", \"bayes\", \"ensemble\"]\n",
        "\n",
        "# tuning parameters\n",
        "svm_rbf_params = {\n",
        "    'C': np.logspace(-4, 1, 25), \n",
        "    'gamma': np.logspace(-4, 0, 5)\n",
        "}\n",
        "\n",
        "svm_poly_params = {\n",
        "    'C': np.logspace(-4, 1.5, 25), \n",
        "    'gamma': np.logspace(-4, 0, 5)\n",
        "}\n",
        "\n",
        "svm_sig_params = {\n",
        "    'C': np.logspace(-4, 1, 25), \n",
        "    'gamma': np.logspace(-4, 0, 5)\n",
        "}\n",
        "\n",
        "svm_lin_params = {'C': np.logspace(-4, 0, 25)}\n",
        "\n",
        "logit_params = {\n",
        "    'C': np.logspace(-4, 0.5, 25), \n",
        "    'intercept_scaling': [100000],\n",
        "    }\n",
        "\n",
        "rf_params = {\n",
        "    'bootstrap': [True],\n",
        "    'max_depth': [int(x) for x in np.linspace(1, 100, 11)],\n",
        "    'max_features': ['sqrt'],\n",
        "    'min_samples_leaf': [3, 4],\n",
        "    'min_samples_split': [8, 9, 10],\n",
        "    'n_estimators': [int(x) for x in np.linspace(50, 1000, 5)]\n",
        "}\n",
        "\n",
        "gb_params = {\n",
        "    'learning_rate': np.linspace(0.01, 0.1, num = 4),\n",
        "    'max_depth': [1, 5, 10, 20, 40, 80, 100],\n",
        "    'subsample': [0.8],\n",
        "    'max_features': ['sqrt'],\n",
        "    'min_samples_leaf': [3],\n",
        "    'min_samples_split': [8],\n",
        "    'n_estimators': [int(x) for x in np.linspace(10, 1000, 5)]\n",
        "}"
      ],
      "execution_count": 0,
      "outputs": []
    },
    {
      "cell_type": "markdown",
      "metadata": {
        "id": "J7SZJecGmkRp",
        "colab_type": "text"
      },
      "source": [
        "**Model 1: SVM**\n",
        "1. Use \"rbf\" kernel"
      ]
    },
    {
      "cell_type": "code",
      "metadata": {
        "id": "LuHu7JzlzLCz",
        "colab_type": "code",
        "colab": {
          "base_uri": "https://localhost:8080/",
          "height": 153
        },
        "outputId": "83574ff5-51bf-49e9-84a3-ebf4e90db79f"
      },
      "source": [
        "# model: SVM - rbf\n",
        "svc_rbf = SVC(kernel = \"rbf\", random_state=0)\n",
        "svm_rbf = GridSearchCV(\n",
        "    svc_rbf, \n",
        "    svm_rbf_params, \n",
        "    cv=n_folds, \n",
        "    scoring='accuracy',\n",
        "    verbose=2,\n",
        "    n_jobs=-1\n",
        "    )\n",
        "svm_rbf.fit = svm_rbf.fit(X_std, y_train)"
      ],
      "execution_count": 7,
      "outputs": [
        {
          "output_type": "stream",
          "text": [
            "Fitting 10 folds for each of 125 candidates, totalling 1250 fits\n"
          ],
          "name": "stdout"
        },
        {
          "output_type": "stream",
          "text": [
            "[Parallel(n_jobs=-1)]: Using backend LokyBackend with 12 concurrent workers.\n",
            "[Parallel(n_jobs=-1)]: Done  17 tasks      | elapsed:    4.4s\n",
            "[Parallel(n_jobs=-1)]: Done 138 tasks      | elapsed:   18.5s\n",
            "[Parallel(n_jobs=-1)]: Done 341 tasks      | elapsed:   41.6s\n",
            "[Parallel(n_jobs=-1)]: Done 624 tasks      | elapsed:  1.2min\n",
            "[Parallel(n_jobs=-1)]: Done 989 tasks      | elapsed:  1.9min\n",
            "[Parallel(n_jobs=-1)]: Done 1250 out of 1250 | elapsed:  2.4min finished\n"
          ],
          "name": "stderr"
        }
      ]
    },
    {
      "cell_type": "markdown",
      "metadata": {
        "id": "Y1Y3sAVjnO_Y",
        "colab_type": "text"
      },
      "source": [
        "2. Use \"poly\" kernel\n"
      ]
    },
    {
      "cell_type": "code",
      "metadata": {
        "id": "utl7F8Ktn0yj",
        "colab_type": "code",
        "colab": {
          "base_uri": "https://localhost:8080/",
          "height": 153
        },
        "outputId": "4c1d4241-7f22-4fe1-9407-cd2d9aa336f7"
      },
      "source": [
        "# model: SVM - poly kernel\n",
        "svc_poly = SVC(kernel = \"poly\", random_state=0)\n",
        "svm_poly = GridSearchCV(\n",
        "    svc_poly, \n",
        "    svm_poly_params, \n",
        "    cv=n_folds, \n",
        "    scoring='accuracy',\n",
        "    verbose=2,\n",
        "    n_jobs=-1\n",
        ")\n",
        "svm_poly.fit = svm_poly.fit(X_std, y_train)"
      ],
      "execution_count": 8,
      "outputs": [
        {
          "output_type": "stream",
          "text": [
            "Fitting 10 folds for each of 125 candidates, totalling 1250 fits\n"
          ],
          "name": "stdout"
        },
        {
          "output_type": "stream",
          "text": [
            "[Parallel(n_jobs=-1)]: Using backend LokyBackend with 12 concurrent workers.\n",
            "[Parallel(n_jobs=-1)]: Done  17 tasks      | elapsed:    2.6s\n",
            "[Parallel(n_jobs=-1)]: Done 138 tasks      | elapsed:   15.6s\n",
            "[Parallel(n_jobs=-1)]: Done 341 tasks      | elapsed:   38.4s\n",
            "[Parallel(n_jobs=-1)]: Done 624 tasks      | elapsed:  1.1min\n",
            "[Parallel(n_jobs=-1)]: Done 989 tasks      | elapsed:  1.8min\n",
            "[Parallel(n_jobs=-1)]: Done 1250 out of 1250 | elapsed:  2.3min finished\n"
          ],
          "name": "stderr"
        }
      ]
    },
    {
      "cell_type": "markdown",
      "metadata": {
        "id": "gnBIbVIsrRry",
        "colab_type": "text"
      },
      "source": [
        "3. Use \"sigmoid\" kernel"
      ]
    },
    {
      "cell_type": "code",
      "metadata": {
        "id": "alvpLCo7rbIo",
        "colab_type": "code",
        "colab": {
          "base_uri": "https://localhost:8080/",
          "height": 153
        },
        "outputId": "f80792d9-68b2-47af-8520-1b55cebf379a"
      },
      "source": [
        "# model: SVM - sigmoid kernel\n",
        "svc_sig = SVC(kernel = \"sigmoid\", random_state=0)\n",
        "svm_sig = GridSearchCV(\n",
        "    svc_sig, \n",
        "    svm_sig_params, \n",
        "    cv=n_folds, \n",
        "    scoring='accuracy',\n",
        "    verbose=2,\n",
        "    n_jobs=-1\n",
        ")\n",
        "svm_sig.fit = svm_sig.fit(X_std, y_train)"
      ],
      "execution_count": 9,
      "outputs": [
        {
          "output_type": "stream",
          "text": [
            "Fitting 10 folds for each of 125 candidates, totalling 1250 fits\n"
          ],
          "name": "stdout"
        },
        {
          "output_type": "stream",
          "text": [
            "[Parallel(n_jobs=-1)]: Using backend LokyBackend with 12 concurrent workers.\n",
            "[Parallel(n_jobs=-1)]: Done  17 tasks      | elapsed:    2.7s\n",
            "[Parallel(n_jobs=-1)]: Done 138 tasks      | elapsed:   16.4s\n",
            "[Parallel(n_jobs=-1)]: Done 341 tasks      | elapsed:   40.1s\n",
            "[Parallel(n_jobs=-1)]: Done 624 tasks      | elapsed:  1.1min\n",
            "[Parallel(n_jobs=-1)]: Done 989 tasks      | elapsed:  1.6min\n",
            "[Parallel(n_jobs=-1)]: Done 1250 out of 1250 | elapsed:  1.9min finished\n"
          ],
          "name": "stderr"
        }
      ]
    },
    {
      "cell_type": "markdown",
      "metadata": {
        "id": "ovZrzD3ZrkIb",
        "colab_type": "text"
      },
      "source": [
        "4. Use \"linear\" kernel"
      ]
    },
    {
      "cell_type": "code",
      "metadata": {
        "id": "H7L46hLGrqhZ",
        "colab_type": "code",
        "colab": {
          "base_uri": "https://localhost:8080/",
          "height": 102
        },
        "outputId": "83993554-6109-43a1-f27b-5ee94084774c"
      },
      "source": [
        "# model: SVM - linear kernel\n",
        "svc_lin = SVC(kernel = \"linear\", random_state=0)\n",
        "svm_lin = GridSearchCV(\n",
        "    svc_lin, \n",
        "    svm_lin_params, \n",
        "    cv=n_folds, \n",
        "    scoring='accuracy', \n",
        "    verbose=2,\n",
        "    n_jobs=-1)\n",
        "svm_lin.fit = svm_lin.fit(X_std, y_train)"
      ],
      "execution_count": 10,
      "outputs": [
        {
          "output_type": "stream",
          "text": [
            "Fitting 10 folds for each of 25 candidates, totalling 250 fits\n"
          ],
          "name": "stdout"
        },
        {
          "output_type": "stream",
          "text": [
            "[Parallel(n_jobs=-1)]: Using backend LokyBackend with 12 concurrent workers.\n",
            "[Parallel(n_jobs=-1)]: Done  17 tasks      | elapsed:    1.9s\n",
            "[Parallel(n_jobs=-1)]: Done 138 tasks      | elapsed:   10.9s\n",
            "[Parallel(n_jobs=-1)]: Done 250 out of 250 | elapsed:   21.4s finished\n"
          ],
          "name": "stderr"
        }
      ]
    },
    {
      "cell_type": "markdown",
      "metadata": {
        "id": "L88yggMstOJ2",
        "colab_type": "text"
      },
      "source": [
        "5. Compare prediction AUCs across different kernels "
      ]
    },
    {
      "cell_type": "code",
      "metadata": {
        "id": "BrHujKlvtNbn",
        "colab_type": "code",
        "colab": {
          "base_uri": "https://localhost:8080/",
          "height": 306
        },
        "outputId": "89ce323e-401a-40d6-f36a-987f2a5f262c"
      },
      "source": [
        "svm_models = [svm_rbf, svm_poly, svm_sig, svm_lin]\n",
        "svm_names = [\"SVM - rbf\", \"SVM - polynomial\", \"SVM - sigmoid\", \"SVM - linear\"]\n",
        "\n",
        "aucs_test = []\n",
        "fig = plt.figure(figsize=(5,5))\n",
        "ax = fig.add_subplot(1, 1, 1)\n",
        "for mod in zip(svm_models, svm_names): \n",
        "    roc_output = metrics.plot_roc_curve(mod[0], X_test_std, y_test, \n",
        "                                        ax=ax, name=mod[1])\n",
        "    aucs_test.append(roc_output.roc_auc)\n",
        "\n",
        "ax.plot([0, 1], [0, 1], 'k--')\n",
        "plt.show()"
      ],
      "execution_count": 73,
      "outputs": [
        {
          "output_type": "display_data",
          "data": {
            "text/plain": [
              "<Figure size 360x360 with 1 Axes>"
            ],
            "image/png": "[encoded data removed]"
          },
          "metadata": {
            "tags": [],
            "needs_background": "light"
          }
        }
      ]
    },
    {
      "cell_type": "markdown",
      "metadata": {
        "id": "aqylv3ntoikR",
        "colab_type": "text"
      },
      "source": [
        "**Model 2: L1-logistic regression**"
      ]
    },
    {
      "cell_type": "code",
      "metadata": {
        "id": "sNkkfEhezVkO",
        "colab_type": "code",
        "colab": {
          "base_uri": "https://localhost:8080/",
          "height": 102
        },
        "outputId": "072787de-2f2e-4f57-e896-a3d6fc18effb"
      },
      "source": [
        "# model: L1-logistic regression\n",
        "logit = LogisticRegression(penalty='l1', solver='liblinear', random_state=seed)\n",
        "logistic = GridSearchCV(\n",
        "    logit, \n",
        "    logit_params, \n",
        "    cv=n_folds, \n",
        "    scoring='accuracy',\n",
        "    verbose=2,\n",
        "    n_jobs=-1\n",
        "    )\n",
        "\n",
        "logistic.fit = logistic.fit(X_std, y_train)"
      ],
      "execution_count": 17,
      "outputs": [
        {
          "output_type": "stream",
          "text": [
            "Fitting 10 folds for each of 25 candidates, totalling 250 fits\n"
          ],
          "name": "stdout"
        },
        {
          "output_type": "stream",
          "text": [
            "[Parallel(n_jobs=-1)]: Using backend LokyBackend with 12 concurrent workers.\n",
            "[Parallel(n_jobs=-1)]: Done  17 tasks      | elapsed:    0.3s\n",
            "[Parallel(n_jobs=-1)]: Done 227 out of 250 | elapsed:    5.9s remaining:    0.6s\n",
            "[Parallel(n_jobs=-1)]: Done 250 out of 250 | elapsed:    6.9s finished\n"
          ],
          "name": "stderr"
        }
      ]
    },
    {
      "cell_type": "code",
      "metadata": {
        "id": "vrKD4s4V6OjC",
        "colab_type": "code",
        "outputId": "8cab91d1-3d98-49cc-8618-0ac539e4ebdf",
        "colab": {
          "base_uri": "https://localhost:8080/",
          "height": 404
        }
      },
      "source": [
        "# plot CV errors\n",
        "b = logistic.cv_results_['mean_test_score'].argmax()\n",
        "\n",
        "plt.figure().set_size_inches(8, 6)\n",
        "plt.plot(logit_params['C'],1 - logistic.cv_results_['mean_test_score'])\n",
        "plt.axvline(logit_params['C'][b], linestyle='--', color='red', label='Best log(C)')\n",
        "plt.ylabel('Misclassification error')\n",
        "plt.xlabel('ln(C)')\n",
        "plt.title('CV error of logistic regression')\n",
        "plt.legend(loc='lower right')\n",
        "plt.show()"
      ],
      "execution_count": 18,
      "outputs": [
        {
          "output_type": "display_data",
          "data": {
            "text/plain": [
              "<Figure size 576x432 with 1 Axes>"
            ],
            "image/png": "[encoded data removed]"
          },
          "metadata": {
            "tags": [],
            "needs_background": "light"
          }
        }
      ]
    },
    {
      "cell_type": "markdown",
      "metadata": {
        "id": "laG34RTgqvo-",
        "colab_type": "text"
      },
      "source": [
        "**Model 3: Random forest**"
      ]
    },
    {
      "cell_type": "code",
      "metadata": {
        "id": "RJQTX5VYzYVD",
        "colab_type": "code",
        "outputId": "2b8caa56-2681-41d1-abb0-c8e33f7124f8",
        "colab": {
          "base_uri": "https://localhost:8080/",
          "height": 221
        }
      },
      "source": [
        "# model: Random forest \n",
        "rf = RandomForestClassifier(random_state=seed)\n",
        "rf = GridSearchCV(  \n",
        "    estimator=rf, \n",
        "    param_grid=rf_params, \n",
        "    cv=n_folds, \n",
        "    scoring='accuracy',\n",
        "    verbose=2,  \n",
        "    n_jobs=-1\n",
        ")\n",
        "rf.fit = rf.fit(X_std, y_train)\n"
      ],
      "execution_count": 22,
      "outputs": [
        {
          "output_type": "stream",
          "text": [
            "Fitting 10 folds for each of 330 candidates, totalling 3300 fits\n"
          ],
          "name": "stdout"
        },
        {
          "output_type": "stream",
          "text": [
            "[Parallel(n_jobs=-1)]: Using backend LokyBackend with 12 concurrent workers.\n",
            "[Parallel(n_jobs=-1)]: Done  17 tasks      | elapsed:    1.5s\n",
            "[Parallel(n_jobs=-1)]: Done 138 tasks      | elapsed:   25.7s\n",
            "[Parallel(n_jobs=-1)]: Done 341 tasks      | elapsed:  1.4min\n",
            "[Parallel(n_jobs=-1)]: Done 624 tasks      | elapsed:  3.8min\n",
            "[Parallel(n_jobs=-1)]: Done 989 tasks      | elapsed:  7.0min\n",
            "[Parallel(n_jobs=-1)]: Done 1434 tasks      | elapsed: 10.8min\n",
            "[Parallel(n_jobs=-1)]: Done 1961 tasks      | elapsed: 15.5min\n",
            "[Parallel(n_jobs=-1)]: Done 2568 tasks      | elapsed: 20.7min\n",
            "[Parallel(n_jobs=-1)]: Done 3257 tasks      | elapsed: 26.4min\n",
            "[Parallel(n_jobs=-1)]: Done 3300 out of 3300 | elapsed: 26.8min finished\n"
          ],
          "name": "stderr"
        }
      ]
    },
    {
      "cell_type": "markdown",
      "metadata": {
        "id": "XVtLWE3rq051",
        "colab_type": "text"
      },
      "source": [
        "**Model 4: LDA**"
      ]
    },
    {
      "cell_type": "code",
      "metadata": {
        "id": "6VGZYndAzn8O",
        "colab_type": "code",
        "colab": {}
      },
      "source": [
        "# model: LDA\n",
        "LDA = LinearDiscriminantAnalysis()\n",
        "LDA.fit=LDA.fit(X_std, y_train)"
      ],
      "execution_count": 0,
      "outputs": []
    },
    {
      "cell_type": "markdown",
      "metadata": {
        "id": "PBpLX1isq3WP",
        "colab_type": "text"
      },
      "source": [
        "**Model 5: QDA**"
      ]
    },
    {
      "cell_type": "code",
      "metadata": {
        "id": "5u5Z1PM2zqBz",
        "colab_type": "code",
        "outputId": "30a0c02b-b65f-4536-b97c-4db4c83daa4b",
        "colab": {
          "base_uri": "https://localhost:8080/",
          "height": 51
        }
      },
      "source": [
        "# model: QDA\n",
        "QDA = QuadraticDiscriminantAnalysis()\n",
        "QDA.fit = QDA.fit(X_std, y_train)"
      ],
      "execution_count": 36,
      "outputs": [
        {
          "output_type": "stream",
          "text": [
            "/Users/christopherboyer/anaconda3/lib/python3.7/site-packages/sklearn/discriminant_analysis.py:691: UserWarning: Variables are collinear\n",
            "  warnings.warn(\"Variables are collinear\")\n"
          ],
          "name": "stderr"
        }
      ]
    },
    {
      "cell_type": "markdown",
      "metadata": {
        "id": "X0ijKCcGq5kX",
        "colab_type": "text"
      },
      "source": [
        "**Model 6: XGBoost**"
      ]
    },
    {
      "cell_type": "code",
      "metadata": {
        "id": "aANcuufUzawz",
        "colab_type": "code",
        "colab": {}
      },
      "source": [
        "# model: XGBoost\n",
        "gb = GradientBoostingClassifier(random_state=seed) \n",
        "gb = GridSearchCV(\n",
        "    estimator=gb, \n",
        "    param_grid=gb_params, \n",
        "    cv=n_folds, \n",
        "    scoring='accuracy',\n",
        "    verbose=2, \n",
        "    n_jobs=1\n",
        ")\n",
        "gb.fit = gb.fit(X_std, y_train)"
      ],
      "execution_count": 0,
      "outputs": []
    },
    {
      "cell_type": "markdown",
      "metadata": {
        "id": "66g3looBDw3p",
        "colab_type": "text"
      },
      "source": [
        "**Model 7: Naive Bayes**"
      ]
    },
    {
      "cell_type": "code",
      "metadata": {
        "id": "puHjMpnS-spm",
        "colab_type": "code",
        "colab": {
          "base_uri": "https://localhost:8080/",
          "height": 34
        },
        "outputId": "d1973b01-97c1-48db-9c17-362c1e3f475e"
      },
      "source": [
        "# model: Naive Bayes\n",
        "bayes = GaussianNB()\n",
        "bayes.fit(X_std, y_train)"
      ],
      "execution_count": 40,
      "outputs": [
        {
          "output_type": "execute_result",
          "data": {
            "text/plain": [
              "GaussianNB(priors=None, var_smoothing=1e-09)"
            ]
          },
          "metadata": {
            "tags": []
          },
          "execution_count": 40
        }
      ]
    },
    {
      "cell_type": "markdown",
      "metadata": {
        "id": "cl-OTXNpD6_6",
        "colab_type": "text"
      },
      "source": [
        "**Model 8: Voting Ensemble Classifier**"
      ]
    },
    {
      "cell_type": "code",
      "metadata": {
        "id": "FekaRnJIAr7V",
        "colab_type": "code",
        "colab": {
          "base_uri": "https://localhost:8080/",
          "height": 527
        },
        "outputId": "d47025cd-85f6-4e21-dada-9a3abcb4ce2b"
      },
      "source": [
        "# model: Ensemble\n",
        "models = [\n",
        "          (\"Logistic\",logistic.best_estimator_),\n",
        "          (\"Random Forest\",rf.best_estimator_),\n",
        "          (\"XGBoost\",gb.best_estimator_),\n",
        "          (\"Naive Bayes\",bayes)]\n",
        "\n",
        "ensemble = VotingClassifier(estimators=models, voting='soft')\n",
        "ensemble.fit(X_std, y_train)"
      ],
      "execution_count": 52,
      "outputs": [
        {
          "output_type": "execute_result",
          "data": {
            "text/plain": [
              "VotingClassifier(estimators=[('Logistic',\n",
              "                              LogisticRegression(C=0.1, class_weight=None,\n",
              "                                                 dual=False, fit_intercept=True,\n",
              "                                                 intercept_scaling=100000,\n",
              "                                                 l1_ratio=None, max_iter=100,\n",
              "                                                 multi_class='auto',\n",
              "                                                 n_jobs=None, penalty='l1',\n",
              "                                                 random_state=3370,\n",
              "                                                 solver='liblinear', tol=0.0001,\n",
              "                                                 verbose=0, warm_start=False)),\n",
              "                             ('Random Forest',\n",
              "                              RandomForestClassifier(bootstrap=True,\n",
              "                                                     ccp_alpha...\n",
              "                                                         min_impurity_split=None,\n",
              "                                                         min_samples_leaf=3,\n",
              "                                                         min_samples_split=8,\n",
              "                                                         min_weight_fraction_leaf=0.0,\n",
              "                                                         n_estimators=505,\n",
              "                                                         n_iter_no_change=None,\n",
              "                                                         presort='deprecated',\n",
              "                                                         random_state=3370,\n",
              "                                                         subsample=0.8,\n",
              "                                                         tol=0.0001,\n",
              "                                                         validation_fraction=0.1,\n",
              "                                                         verbose=0,\n",
              "                                                         warm_start=False)),\n",
              "                             ('Naive Bayes',\n",
              "                              GaussianNB(priors=None, var_smoothing=1e-09))],\n",
              "                 flatten_transform=True, n_jobs=None, voting='soft',\n",
              "                 weights=None)"
            ]
          },
          "metadata": {
            "tags": []
          },
          "execution_count": 52
        }
      ]
    },
    {
      "cell_type": "markdown",
      "metadata": {
        "id": "0pIF-IcKnjC5",
        "colab_type": "text"
      },
      "source": [
        "**Save trained models**"
      ]
    },
    {
      "cell_type": "code",
      "metadata": {
        "id": "zj0rQjzGnhS9",
        "colab_type": "code",
        "colab": {}
      },
      "source": [
        "for mod in zip(models, filenames):\n",
        "  dump(mod[0], mod[1])"
      ],
      "execution_count": 0,
      "outputs": []
    },
    {
      "cell_type": "markdown",
      "metadata": {
        "id": "qGVnX6e-qU2w",
        "colab_type": "text"
      },
      "source": [
        "**Load trained models (START HERE)**"
      ]
    },
    {
      "cell_type": "code",
      "metadata": {
        "id": "HRwLV108qQJS",
        "colab_type": "code",
        "colab": {}
      },
      "source": [
        "svm_rbf = load('svm_rbf')\n",
        "logistic = load('logistic')\n",
        "rf = load('rf')\n",
        "LDA = load('LDA')\n",
        "QDA = load('QDA')\n",
        "gb = load('gb')\n",
        "bayes = load('bayes')\n",
        "ensemble = load('ensemble')"
      ],
      "execution_count": 0,
      "outputs": []
    },
    {
      "cell_type": "markdown",
      "metadata": {
        "id": "e1zbnGC9rJg6",
        "colab_type": "text"
      },
      "source": [
        "**Clustering/Data reduction**"
      ]
    },
    {
      "cell_type": "code",
      "metadata": {
        "id": "UZnnIVJASgw-",
        "colab_type": "code",
        "outputId": "6dccb267-f5fc-4448-c571-a211c4a33391",
        "colab": {
          "base_uri": "https://localhost:8080/",
          "height": 342
        }
      },
      "source": [
        "# Generate PCAR\n",
        "from sklearn.decomposition import PCA\n",
        "full_pca = PCA(random_state=0).fit(X_std)\n",
        "full_pca.n_components_\n",
        "\n",
        "cum_exp_var = np.cumsum(full_pca.explained_variance_ratio_)\n",
        "\n",
        "plt.plot(np.arange(len(cum_exp_var))+1, cum_exp_var)\n",
        "plt.xlabel('Number of Components')\n",
        "plt.ylabel('Proportion of Variance Explained');\n",
        "\n",
        "cutoffs = np.flip(np.arange(0.5, 1, 0.05))\n",
        "cutoffs_df = pd.DataFrame([[min(np.arange(len(cum_exp_var))[cum_exp_var > c]) + 1 for c in cutoffs]], \n",
        "                          columns=cutoffs, index=['Number of PCs Needed'])\n",
        "cutoffs_df.columns.name = 'Variance Explained'\n",
        "cutoffs_df\n"
      ],
      "execution_count": 0,
      "outputs": [
        {
          "output_type": "execute_result",
          "data": {
            "text/html": [
              "<div>\n",
              "<style scoped>\n",
              "    .dataframe tbody tr th:only-of-type {\n",
              "        vertical-align: middle;\n",
              "    }\n",
              "\n",
              "    .dataframe tbody tr th {\n",
              "        vertical-align: top;\n",
              "    }\n",
              "\n",
              "    .dataframe thead th {\n",
              "        text-align: right;\n",
              "    }\n",
              "</style>\n",
              "<table border=\"1\" class=\"dataframe\">\n",
              "  <thead>\n",
              "    <tr style=\"text-align: right;\">\n",
              "      <th>Variance Explained</th>\n",
              "      <th>0.95</th>\n",
              "      <th>0.90</th>\n",
              "      <th>0.85</th>\n",
              "      <th>0.80</th>\n",
              "      <th>0.75</th>\n",
              "      <th>0.70</th>\n",
              "      <th>0.65</th>\n",
              "      <th>0.60</th>\n",
              "      <th>0.55</th>\n",
              "      <th>0.50</th>\n",
              "    </tr>\n",
              "  </thead>\n",
              "  <tbody>\n",
              "    <tr>\n",
              "      <th>Number of PCs Needed</th>\n",
              "      <td>199</td>\n",
              "      <td>165</td>\n",
              "      <td>136</td>\n",
              "      <td>110</td>\n",
              "      <td>88</td>\n",
              "      <td>69</td>\n",
              "      <td>52</td>\n",
              "      <td>38</td>\n",
              "      <td>26</td>\n",
              "      <td>17</td>\n",
              "    </tr>\n",
              "  </tbody>\n",
              "</table>\n",
              "</div>"
            ],
            "text/plain": [
              "Variance Explained    0.95  0.90  0.85  0.80  ...  0.65  0.60  0.55  0.50\n",
              "Number of PCs Needed   199   165   136   110  ...    52    38    26    17\n",
              "\n",
              "[1 rows x 10 columns]"
            ]
          },
          "metadata": {
            "tags": []
          },
          "execution_count": 127
        },
        {
          "output_type": "display_data",
          "data": {
            "image/png": "[encoded data removed]",
            "text/plain": [
              "<Figure size 432x288 with 1 Axes>"
            ]
          },
          "metadata": {
            "tags": [],
            "needs_background": "light"
          }
        }
      ]
    },
    {
      "cell_type": "code",
      "metadata": {
        "id": "6f69KL1yUa0T",
        "colab_type": "code",
        "colab": {}
      },
      "source": [
        "# model: KMeans\n",
        "final_pca = PCA(165, random_state=0).fit(X_train)\n",
        "pixels_transform = final_pca.transform(X_train)\n",
        "\n",
        "kmeans_kpp = KMeans(n_clusters=2, init='k-means++', n_init=1, random_state=0).fit(pixels_transform)\n",
        "kmeans_kpp_labels = kmeans_kpp.labels_"
      ],
      "execution_count": 0,
      "outputs": []
    },
    {
      "cell_type": "code",
      "metadata": {
        "id": "pJuDUY0ZUXGa",
        "colab_type": "code",
        "colab": {}
      },
      "source": [
        "# model: EM\n",
        "em_kmeans = GaussianMixture(n_components=2, init_params='kmeans', n_init=1, random_state=0).fit(pixels_transform)\n",
        "em_kmeans_labels = em_kmeans.predict(pixels_transform)"
      ],
      "execution_count": 0,
      "outputs": []
    },
    {
      "cell_type": "markdown",
      "metadata": {
        "id": "_j632_H1rDyM",
        "colab_type": "text"
      },
      "source": [
        "**Model evaluation and comparison**"
      ]
    },
    {
      "cell_type": "code",
      "metadata": {
        "id": "D95czyXcbGnY",
        "colab_type": "code",
        "colab": {}
      },
      "source": [
        "##all_models = [svm,logit,rf,LDA,QDA,gb,kmeans_kpp,em_kmeans]\n",
        "##mod_names = [\"SVM\",\"Logistic\",\"Random Forest\",\"LDA\", \"QDA\",\"XGBoost\",\"KMeans\",\"Gaussian Mixture\"]\n"
      ],
      "execution_count": 0,
      "outputs": []
    },
    {
      "cell_type": "code",
      "metadata": {
        "id": "tMaHxZzmbaPX",
        "colab_type": "code",
        "colab": {}
      },
      "source": [
        "Y_train_pred_svm_lin = svm_lin.fit.predict(X_train)\n",
        "Y_train_pred_logistic = logistic.fit.predict(X_train)\n",
        "Y_train_pred_rf = rf.fit.predict(X_train)\n",
        "Y_train_pred_lda = LDA.fit.predict(X_train)\n",
        "Y_train_pred_qda = QDA.fit.predict(X_train)\n",
        "Y_train_pred_xgb = gb.fit.predict(X_train)\n",
        "Y_train_pred_bayes = bayes.fit.predict(X_train)\n",
        "#Y_train_pred_kmean = kmeans_kpp.labels_\n",
        "#Y_train_pred_em = em_kmeans.predict(pixels_transform)"
      ],
      "execution_count": 0,
      "outputs": []
    },
    {
      "cell_type": "code",
      "metadata": {
        "id": "MAk5JtTZbwD9",
        "colab_type": "code",
        "outputId": "69380ab1-df80-4b67-fe4d-077137cba967",
        "colab": {
          "base_uri": "https://localhost:8080/",
          "height": 497
        }
      },
      "source": [
        "aucs_train = []\n",
        "fig = plt.figure(figsize=(8,8))\n",
        "ax = fig.add_subplot(1, 1, 1)\n",
        "for mod in zip(models, model_names): \n",
        "    roc_output = metrics.plot_roc_curve(mod[0], X_std, y_train, \n",
        "                                        ax=ax, name=mod[1])\n",
        "    aucs_train.append(roc_output.roc_auc)\n",
        "\n",
        "ax.plot([0, 1], [0, 1], 'k--')\n",
        "plt.show()"
      ],
      "execution_count": 9,
      "outputs": [
        {
          "output_type": "display_data",
          "data": {
            "text/plain": [
              "<Figure size 576x576 with 1 Axes>"
            ],
            "image/png": "[encoded data removed]"
          },
          "metadata": {
            "tags": [],
            "needs_background": "light"
          }
        }
      ]
    },
    {
      "cell_type": "code",
      "metadata": {
        "id": "wiUA7cvubxfF",
        "colab_type": "code",
        "colab": {}
      },
      "source": [
        "Y_test_pred_svm_lin = svm_lin.fit.predict(X_test)\n",
        "Y_test_pred_logistic = logistic.fit.predict(X_test)\n",
        "Y_test_pred_rf = rf.fit.predict(X_test)\n",
        "Y_test_pred_lda = LDA.fit.predict(X_test)\n",
        "Y_test_pred_qda = QDA.fit.predict(X_test)\n",
        "Y_test_pred_xgb = gb.fit.predict(X_test)"
      ],
      "execution_count": 0,
      "outputs": []
    },
    {
      "cell_type": "code",
      "metadata": {
        "id": "KYLQo2lob8hM",
        "colab_type": "code",
        "outputId": "aa09512c-97cc-438b-e8cc-acc0ecd98a98",
        "colab": {
          "base_uri": "https://localhost:8080/",
          "height": 497
        }
      },
      "source": [
        "aucs_test = []\n",
        "fig = plt.figure(figsize=(8,8))\n",
        "ax = fig.add_subplot(1, 1, 1)\n",
        "for mod in zip(models, model_names): \n",
        "    roc_output = metrics.plot_roc_curve(mod[0], X_test_std, y_test, \n",
        "                                        ax=ax, name=mod[1])\n",
        "    aucs_test.append(roc_output.roc_auc)\n",
        "\n",
        "ax.plot([0, 1], [0, 1], 'k--')\n",
        "plt.show()"
      ],
      "execution_count": 12,
      "outputs": [
        {
          "output_type": "display_data",
          "data": {
            "text/plain": [
              "<Figure size 576x576 with 1 Axes>"
            ],
            "image/png": "[encoded data removed]"
          },
          "metadata": {
            "tags": [],
            "needs_background": "light"
          }
        }
      ]
    },
    {
      "cell_type": "code",
      "metadata": {
        "id": "wiC4pBbpb_IV",
        "colab_type": "code",
        "outputId": "784ce094-3d44-446a-c847-ffa83555428d",
        "colab": {
          "base_uri": "https://localhost:8080/",
          "height": 111
        }
      },
      "source": [
        "pd.DataFrame(np.vstack([aucs_train, aucs_test]), \n",
        "             index=[\"Training AUC\", \"Test AUC\"], \n",
        "             columns=model_names)"
      ],
      "execution_count": 11,
      "outputs": [
        {
          "output_type": "execute_result",
          "data": {
            "text/plain": [
              "               SVM RBF  Logistic  Random Forest       LDA  QDA   XGBoost  \\\n",
              "Training AUC  0.963683  0.941657       0.998881  0.986161  1.0  0.999118   \n",
              "Test AUC      0.806607  0.777143       0.818393  0.619643  0.5  0.786607   \n",
              "\n",
              "              Naive Bayes  Ensemble  \n",
              "Training AUC     0.765244  0.968703  \n",
              "Test AUC         0.755536  0.802857  "
            ],
            "text/html": [
              "<div>\n",
              "<style scoped>\n",
              "    .dataframe tbody tr th:only-of-type {\n",
              "        vertical-align: middle;\n",
              "    }\n",
              "\n",
              "    .dataframe tbody tr th {\n",
              "        vertical-align: top;\n",
              "    }\n",
              "\n",
              "    .dataframe thead th {\n",
              "        text-align: right;\n",
              "    }\n",
              "</style>\n",
              "<table border=\"1\" class=\"dataframe\">\n",
              "  <thead>\n",
              "    <tr style=\"text-align: right;\">\n",
              "      <th></th>\n",
              "      <th>SVM RBF</th>\n",
              "      <th>Logistic</th>\n",
              "      <th>Random Forest</th>\n",
              "      <th>LDA</th>\n",
              "      <th>QDA</th>\n",
              "      <th>XGBoost</th>\n",
              "      <th>Naive Bayes</th>\n",
              "      <th>Ensemble</th>\n",
              "    </tr>\n",
              "  </thead>\n",
              "  <tbody>\n",
              "    <tr>\n",
              "      <th>Training AUC</th>\n",
              "      <td>0.963683</td>\n",
              "      <td>0.941657</td>\n",
              "      <td>0.998881</td>\n",
              "      <td>0.986161</td>\n",
              "      <td>1.0</td>\n",
              "      <td>0.999118</td>\n",
              "      <td>0.765244</td>\n",
              "      <td>0.968703</td>\n",
              "    </tr>\n",
              "    <tr>\n",
              "      <th>Test AUC</th>\n",
              "      <td>0.806607</td>\n",
              "      <td>0.777143</td>\n",
              "      <td>0.818393</td>\n",
              "      <td>0.619643</td>\n",
              "      <td>0.5</td>\n",
              "      <td>0.786607</td>\n",
              "      <td>0.755536</td>\n",
              "      <td>0.802857</td>\n",
              "    </tr>\n",
              "  </tbody>\n",
              "</table>\n",
              "</div>"
            ]
          },
          "metadata": {
            "tags": []
          },
          "execution_count": 11
        }
      ]
    },
    {
      "cell_type": "code",
      "metadata": {
        "id": "bUJbEbEszSN1",
        "colab_type": "code",
        "outputId": "c038e883-f5f0-42c2-834c-ad37bfd4f3be",
        "colab": {
          "base_uri": "https://localhost:8080/",
          "height": 283
        }
      },
      "source": [
        "ensemble.predict_proba()"
      ],
      "execution_count": 78,
      "outputs": [
        {
          "output_type": "error",
          "ename": "AttributeError",
          "evalue": "ignored",
          "traceback": [
            "\u001b[0;31m---------------------------------------------------------------------------\u001b[0m",
            "\u001b[0;31mAttributeError\u001b[0m                            Traceback (most recent call last)",
            "\u001b[0;32m<ipython-input-78-d69249e878c6>\u001b[0m in \u001b[0;36m<module>\u001b[0;34m\u001b[0m\n\u001b[0;32m----> 1\u001b[0;31m \u001b[0mensemble\u001b[0m\u001b[0;34m.\u001b[0m\u001b[0mpredict_proba\u001b[0m\u001b[0;34m(\u001b[0m\u001b[0;34m)\u001b[0m\u001b[0;34m\u001b[0m\u001b[0;34m\u001b[0m\u001b[0m\n\u001b[0m",
            "\u001b[0;32m~/anaconda3/lib/python3.7/site-packages/sklearn/ensemble/_voting.py\u001b[0m in \u001b[0;36mpredict_proba\u001b[0;34m(self)\u001b[0m\n\u001b[1;32m    277\u001b[0m         \u001b[0;32mif\u001b[0m \u001b[0mself\u001b[0m\u001b[0;34m.\u001b[0m\u001b[0mvoting\u001b[0m \u001b[0;34m==\u001b[0m \u001b[0;34m'hard'\u001b[0m\u001b[0;34m:\u001b[0m\u001b[0;34m\u001b[0m\u001b[0;34m\u001b[0m\u001b[0m\n\u001b[1;32m    278\u001b[0m             raise AttributeError(\"predict_proba is not available when\"\n\u001b[0;32m--> 279\u001b[0;31m                                  \" voting=%r\" % self.voting)\n\u001b[0m\u001b[1;32m    280\u001b[0m         \u001b[0;32mreturn\u001b[0m \u001b[0mself\u001b[0m\u001b[0;34m.\u001b[0m\u001b[0m_predict_proba\u001b[0m\u001b[0;34m\u001b[0m\u001b[0;34m\u001b[0m\u001b[0m\n\u001b[1;32m    281\u001b[0m \u001b[0;34m\u001b[0m\u001b[0m\n",
            "\u001b[0;31mAttributeError\u001b[0m: predict_proba is not available when voting='hard'"
          ]
        }
      ]
    },
    {
      "cell_type": "code",
      "metadata": {
        "id": "gcNd8GhQzUy2",
        "colab_type": "code",
        "colab": {}
      },
      "source": [
        "plt.show()"
      ],
      "execution_count": 0,
      "outputs": []
    }
  ]
}