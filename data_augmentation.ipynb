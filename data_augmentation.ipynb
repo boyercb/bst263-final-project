{
 "cells": [
  {
   "cell_type": "code",
   "execution_count": 2,
   "metadata": {},
   "outputs": [],
   "source": [
    "import os"
   ]
  },
  {
   "cell_type": "code",
   "execution_count": 24,
   "metadata": {},
   "outputs": [],
   "source": [
    "os.chdir('/Users/chloehe/Desktop')"
   ]
  },
  {
   "cell_type": "code",
   "execution_count": 25,
   "metadata": {},
   "outputs": [],
   "source": [
    "from keras.preprocessing.image import ImageDataGenerator"
   ]
  },
  {
   "cell_type": "code",
   "execution_count": 26,
   "metadata": {},
   "outputs": [],
   "source": [
    "datagen = ImageDataGenerator(\n",
    "      rotation_range = 60,\n",
    "      width_shift_range = 0.1,\n",
    "      height_shift_range = 0.2,\n",
    "      shear_range = 0.3,\n",
    "      zoom_range = 0.2,\n",
    "      horizontal_flip = True,\n",
    "      fill_mode = 'nearest')"
   ]
  },
  {
   "cell_type": "code",
   "execution_count": 27,
   "metadata": {},
   "outputs": [
    {
     "name": "stdout",
     "output_type": "stream",
     "text": [
      "Found 947 images belonging to 2 classes.\n"
     ]
    }
   ],
   "source": [
    "covid_dir = '/Users/chloehe/Desktop/images'\n",
    "\n",
    "covid_generator = datagen.flow_from_directory(\n",
    "        covid_dir,\n",
    "        target_size=(61, 115),\n",
    "        batch_size=10,\n",
    "        class_mode='binary')"
   ]
  },
  {
   "cell_type": "code",
   "execution_count": 28,
   "metadata": {},
   "outputs": [],
   "source": [
    "import pandas as pd\n",
    "import numpy as np\n",
    "import matplotlib.pyplot as plt\n",
    "from helpers import *\n",
    "import glob\n",
    "from PIL import Image"
   ]
  },
  {
   "cell_type": "code",
   "execution_count": 40,
   "metadata": {},
   "outputs": [],
   "source": [
    "covid_list = os.listdir('/Users/chloehe/Desktop/images/CT_COVID')\n",
    "nocovid_list = os.listdir('/Users/chloehe/Desktop/images/CT_NonCOVID')"
   ]
  },
  {
   "cell_type": "code",
   "execution_count": 41,
   "metadata": {},
   "outputs": [],
   "source": [
    "# read in covid CT\n",
    "covid_list = []\n",
    "for filename in glob.glob('CT_COVID/*.png'): \n",
    "    im=plt.imread(filename)\n",
    "    covid_list.append(im)"
   ]
  },
  {
   "cell_type": "code",
   "execution_count": 33,
   "metadata": {},
   "outputs": [],
   "source": [
    "# convert \"jpg\" to \"png\" and “save-as”\n",
    "for filename in glob.glob('CT_NonCOVID/*.jpg'):  \n",
    "    im1 = Image.open(filename)\n",
    "    prefix = filename.split(\".jpg\")[0]\n",
    "    im1.save(prefix+'.png')"
   ]
  },
  {
   "cell_type": "code",
   "execution_count": 34,
   "metadata": {},
   "outputs": [],
   "source": [
    "# read in non-covid CT\n",
    "nocovid_list = []\n",
    "for filename in glob.glob('CT_NonCOVID/*.png'): \n",
    "    im=plt.imread(filename,0)\n",
    "    nocovid_list.append(im)"
   ]
  },
  {
   "cell_type": "code",
   "execution_count": 36,
   "metadata": {},
   "outputs": [],
   "source": [
    "# Find the minimum dimension for covid pictures to crop later\n",
    "a = np.empty(349, dtype=object) \n",
    "for i in range(len(covid_list)):\n",
    "     a[i] = covid_list[i].shape[0]\n",
    "        \n",
    "b = np.empty(349, dtype=object) \n",
    "for i in range(len(covid_list)):\n",
    "     b[i] = covid_list[i].shape[1]\n",
    "        \n",
    "# min_length = min(a)\n",
    "# min_width = min(b)\n",
    "# print(\"the minimum length for covid pictures is\",min_length)\n",
    "# print(\"the minimum width for covid pictures is\",min_width)"
   ]
  },
  {
   "cell_type": "code",
   "execution_count": 38,
   "metadata": {},
   "outputs": [],
   "source": [
    "# Find the minimum dimension for non-covid picturesto crop later\n",
    "c = np.empty(397, dtype=object) \n",
    "for i in range(len(nocovid_list)):\n",
    "     c[i] = nocovid_list[i].shape[0]\n",
    "        \n",
    "d = np.empty(397, dtype=object) \n",
    "for i in range(len(nocovid_list)):\n",
    "     d[i] = nocovid_list[i].shape[1]\n",
    "        \n",
    "# min_length_non_covid = min(c)\n",
    "# min_width_non_covid = min(d)\n",
    "# print(\"the minimum length for non-covid pictures is\",min_length_non_covid)\n",
    "# print(\"the minimum width for non-covid pictures is\",min_width_non_covid)"
   ]
  },
  {
   "cell_type": "code",
   "execution_count": 39,
   "metadata": {},
   "outputs": [
    {
     "data": {
      "text/plain": [
       "(0,)"
      ]
     },
     "execution_count": 39,
     "metadata": {},
     "output_type": "execute_result"
    }
   ],
   "source": [
    "covid_processed = []\n",
    "for i in range(len(covid_list)):\n",
    "    if len(covid_list[i].shape)==3:\n",
    "        grey = rgb2gray(covid_list[i])\n",
    "    else:\n",
    "        grey=covid_list[i]\n",
    "    #additional step: rotate matrix such that dim(row)<=dim(column) -> cropping causes less information loss\n",
    "    if grey.shape[0]>grey.shape[1]:\n",
    "        grey=np.rot90(grey)\n",
    "    c = cropR(grey,min_length,min_width) \n",
    "    g = grad(c,min_length-2,min_width-2,False)\n",
    "    h = hog(g[0],g[1],16,16,32)\n",
    "    covid_processed.append(h)\n",
    "covid_processed = np.array(covid_processed)\n",
    "covid_processed.shape"
   ]
  },
  {
   "cell_type": "code",
   "execution_count": null,
   "metadata": {},
   "outputs": [],
   "source": []
  }
 ],
 "metadata": {
  "kernelspec": {
   "display_name": "Python 3",
   "language": "python",
   "name": "python3"
  },
  "language_info": {
   "codemirror_mode": {
    "name": "ipython",
    "version": 3
   },
   "file_extension": ".py",
   "mimetype": "text/x-python",
   "name": "python",
   "nbconvert_exporter": "python",
   "pygments_lexer": "ipython3",
   "version": "3.7.4"
  }
 },
 "nbformat": 4,
 "nbformat_minor": 4
}
