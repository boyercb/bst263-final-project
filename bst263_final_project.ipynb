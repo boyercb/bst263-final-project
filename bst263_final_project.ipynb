{
  "nbformat": 4,
  "nbformat_minor": 0,
  "metadata": {
    "colab": {
      "name": "bst263-final-project.ipynb",
      "provenance": [],
      "collapsed_sections": [],
      "include_colab_link": true
    },
    "kernelspec": {
      "name": "python3",
      "display_name": "Python 3"
    }
  },
  "cells": [
    {
      "cell_type": "markdown",
      "metadata": {
        "id": "view-in-github",
        "colab_type": "text"
      },
      "source": [
        "<a href=\"https://colab.research.google.com/github/boyercb/bst263-final-project/blob/master/bst263_final_project.ipynb\" target=\"_parent\"><img src=\"https://colab.research.google.com/assets/colab-badge.svg\" alt=\"Open In Colab\"/></a>"
      ]
    },
    {
      "cell_type": "code",
      "metadata": {
        "id": "DcPwVgK3_Dwo",
        "colab_type": "code",
        "colab": {}
      },
      "source": [
        "import pandas as pd\n",
        "import numpy as np\n",
        "import matplotlib.pyplot as plt\n",
        "\n",
        "from sklearn.preprocessing import StandardScaler\n",
        "\n",
        "from sklearn.svm import SVC, l1_min_c\n",
        "from sklearn.linear_model import LogisticRegression\n",
        "from sklearn.discriminant_analysis import LinearDiscriminantAnalysis\n",
        "from sklearn.discriminant_analysis import QuadraticDiscriminantAnalysis\n",
        "from sklearn.ensemble import GradientBoostingRegressor\n",
        "from sklearn.ensemble import RandomForestRegressor"
      ],
      "execution_count": 0,
      "outputs": []
    },
    {
      "cell_type": "code",
      "metadata": {
        "id": "KcNh_xeeRde6",
        "colab_type": "code",
        "colab": {}
      },
      "source": [
        "# run cleaning code"
      ],
      "execution_count": 0,
      "outputs": []
    },
    {
      "cell_type": "code",
      "metadata": {
        "id": "ZYK8uBm9RxYG",
        "colab_type": "code",
        "colab": {}
      },
      "source": [
        "# create training and validation sets\n",
        "train = \n",
        "test = "
      ],
      "execution_count": 0,
      "outputs": []
    },
    {
      "cell_type": "code",
      "metadata": {
        "id": "7hXcBXxv1K-B",
        "colab_type": "code",
        "colab": {}
      },
      "source": [
        "# preprocessing "
      ],
      "execution_count": 0,
      "outputs": []
    },
    {
      "cell_type": "code",
      "metadata": {
        "id": "LuHu7JzlzLCz",
        "colab_type": "code",
        "colab": {}
      },
      "source": [
        "# model: SVM"
      ],
      "execution_count": 0,
      "outputs": []
    },
    {
      "cell_type": "code",
      "metadata": {
        "id": "sNkkfEhezVkO",
        "colab_type": "code",
        "colab": {}
      },
      "source": [
        "# model: L1-logistic regression"
      ],
      "execution_count": 0,
      "outputs": []
    },
    {
      "cell_type": "code",
      "metadata": {
        "id": "RJQTX5VYzYVD",
        "colab_type": "code",
        "colab": {}
      },
      "source": [
        "# model: Random forest"
      ],
      "execution_count": 0,
      "outputs": []
    },
    {
      "cell_type": "code",
      "metadata": {
        "id": "6VGZYndAzn8O",
        "colab_type": "code",
        "colab": {}
      },
      "source": [
        "# model: LDA"
      ],
      "execution_count": 0,
      "outputs": []
    },
    {
      "cell_type": "code",
      "metadata": {
        "id": "5u5Z1PM2zqBz",
        "colab_type": "code",
        "colab": {}
      },
      "source": [
        "# model: QDA"
      ],
      "execution_count": 0,
      "outputs": []
    },
    {
      "cell_type": "code",
      "metadata": {
        "id": "aANcuufUzawz",
        "colab_type": "code",
        "colab": {}
      },
      "source": [
        "# model: XGBoost"
      ],
      "execution_count": 0,
      "outputs": []
    },
    {
      "cell_type": "code",
      "metadata": {
        "id": "J5004wBvzfHQ",
        "colab_type": "code",
        "colab": {}
      },
      "source": [
        "# model comparison "
      ],
      "execution_count": 0,
      "outputs": []
    }
  ]
}